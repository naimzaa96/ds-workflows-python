{
 "cells": [
  {
   "attachments": {},
   "cell_type": "markdown",
   "metadata": {},
   "source": [
    "# Data Validation"
   ]
  },
  {
   "attachments": {},
   "cell_type": "markdown",
   "metadata": {},
   "source": [
    "In the previous notebook, two pins were saved:\n",
    "\n",
    "- City of Chicago - Business License Data (RAW): `chicago-business-license-data`\n",
    "- ity of Chicago - Food Inspection Data (RAW): `chicago-food-inspection-data`"
   ]
  },
  {
   "attachments": {},
   "cell_type": "markdown",
   "metadata": {},
   "source": [
    "## Setup"
   ]
  },
  {
   "cell_type": "code",
   "execution_count": null,
   "metadata": {},
   "outputs": [],
   "source": [
    "import os\n",
    "\n",
    "import ibis\n",
    "import pins\n",
    "import pandas as pd\n",
    "import numpy as np\n",
    "import pandera as pa\n",
    "from sqlalchemy import create_engine"
   ]
  },
  {
   "cell_type": "code",
   "execution_count": null,
   "metadata": {},
   "outputs": [],
   "source": [
    "pd.options.display.max_columns = 999"
   ]
  },
  {
   "cell_type": "code",
   "execution_count": null,
   "metadata": {},
   "outputs": [],
   "source": [
    "# Set up the board\n",
    "board = pins.board_connect()\n",
    "user_name = \"sam.edwardes\""
   ]
  },
  {
   "cell_type": "code",
   "execution_count": null,
   "metadata": {},
   "outputs": [],
   "source": [
    "# Database details\n",
    "db_user = \"posit\"\n",
    "db_password = os.environ[\"CONF23_DB_PASSWORD\"]\n",
    "db_host = os.environ[\"CONF23_DB_HOST\"]\n",
    "db_port = 5432\n",
    "db_database = \"python_workshop\"\n",
    "\n",
    "# Set up sqlalchemy for writing data\n",
    "engine = create_engine(f\"postgresql+psycopg2://{db_user}:{db_password}@{db_host}/{db_database}\")\n",
    "\n",
    "# Set up ibis for reading data\n",
    "con = ibis.postgres.connect(\n",
    "    user=db_user,\n",
    "    password=db_password,\n",
    "    host=db_host,\n",
    "    port=db_port,\n",
    "    database=db_database\n",
    ")"
   ]
  },
  {
   "attachments": {},
   "cell_type": "markdown",
   "metadata": {},
   "source": [
    "## Tips\n",
    "\n",
    "- Use multiple cursors in VS Code to easily edit many lines at the same time (<https://code.visualstudio.com/docs/getstarted/tips-and-tricks#_column-box-selection>).\n",
    "- Use `df[\"col_name\"].value_counts()` to understand the distribution of categorical columns.\n",
    "- Use `df[\"col_name\"].hist` to understand the distribution of numeric columns.\n",
    "- Use `df.info()` to understand column types and null values.\n",
    "- Use [ydata-profiling](https://pypi.org/project/ydata-profiling/) to generate an automated data report.\n",
    "\n",
    "```python\n",
    "from ydata_profiling import ProfileReport\n",
    "ProfileReport(df)\n",
    "```"
   ]
  },
  {
   "attachments": {},
   "cell_type": "markdown",
   "metadata": {},
   "source": [
    "## Load raw data\n",
    "\n",
    "Use `ibis` to read the data from Postgres."
   ]
  },
  {
   "cell_type": "code",
   "execution_count": null,
   "metadata": {},
   "outputs": [],
   "source": [
    "business_license_raw = con.table(\"business_license_raw\").to_pandas()"
   ]
  },
  {
   "cell_type": "code",
   "execution_count": null,
   "metadata": {},
   "outputs": [],
   "source": [
    "food_inspection_raw = con.table(\"food_inspection_raw\").to_pandas()"
   ]
  },
  {
   "attachments": {},
   "cell_type": "markdown",
   "metadata": {},
   "source": [
    "## Data set (1): Business License Data\n",
    "\n",
    "<https://data.cityofchicago.org/Community-Economic-Development/Business-Licenses/r5kz-chrr>"
   ]
  },
  {
   "cell_type": "code",
   "execution_count": null,
   "metadata": {},
   "outputs": [],
   "source": [
    "business_license_raw"
   ]
  },
  {
   "attachments": {},
   "cell_type": "markdown",
   "metadata": {},
   "source": [
    "The business license data includes licenses for all Chicago businesses. For this analysis, we are only interested in the licenses where a food inspection may apply. To figure out which licenses are in scope:\n",
    "\n",
    "- Perform an inner join on the business license and food inspection data.\n",
    "- Identify all of the unique license codes where food inspections apply.\n",
    "- Filter the data to include only those businesses."
   ]
  },
  {
   "cell_type": "code",
   "execution_count": null,
   "metadata": {},
   "outputs": [],
   "source": [
    "food_inspection_raw"
   ]
  },
  {
   "cell_type": "code",
   "execution_count": null,
   "metadata": {},
   "outputs": [],
   "source": [
    "in_scope_license_codes = (\n",
    "    pd.merge(\n",
    "        food_inspection_raw,\n",
    "        business_license_raw,\n",
    "        how=\"inner\",\n",
    "        left_on=\"license_\",\n",
    "        right_on=\"license_id\"\n",
    "    )\n",
    "    .loc[:, \"license_code\"]\n",
    "    .dropna()\n",
    "    .unique()\n",
    ")\n",
    "\n",
    "in_scope_license_codes"
   ]
  },
  {
   "attachments": {},
   "cell_type": "markdown",
   "metadata": {},
   "source": [
    "**Data cleaning**\n",
    "\n",
    "Apply some basic cleaning steps to the data."
   ]
  },
  {
   "cell_type": "code",
   "execution_count": null,
   "metadata": {},
   "outputs": [],
   "source": [
    "business_license_tidy = (business_license_raw\n",
    "    \n",
    "    # Only keep in scope licenses\n",
    "    .loc[business_license_raw[\"license_code\"].isin(in_scope_license_codes)]\n",
    "\n",
    "    # Filter on the relevant state and city only.\n",
    "    .loc[business_license_raw[\"state\"] == \"IL\"]\n",
    "    .loc[business_license_raw[\"city\"] == \"CHICAGO\"]\n",
    "\n",
    "    # Convert conditional approval to a boolean value.\n",
    "    .assign(conditional_approval=lambda x: x[\"conditional_approval\"] == \"Y\")\n",
    "    \n",
    "    # Drop the \"location\" column, the same data is already stored in the \"latitude\"\n",
    "    # and \"longitude\" columns.\n",
    "    .drop(columns=[\"location\"])\n",
    "\n",
    "    # Reset the index.\n",
    "    .reset_index(drop=True)\n",
    ")\n",
    "\n",
    "business_license_tidy"
   ]
  },
  {
   "attachments": {},
   "cell_type": "markdown",
   "metadata": {},
   "source": [
    "**Data validation**\n",
    "\n",
    "Use pandera to validate the data and convert each column to the correct type."
   ]
  },
  {
   "cell_type": "code",
   "execution_count": null,
   "metadata": {},
   "outputs": [],
   "source": [
    "business_license_schema = pa.DataFrameSchema({\n",
    "    \"id\": pa.Column(str, coerce=True),\n",
    "    \"license_id\": pa.Column(str, coerce=True, unique=True), # Primary Key\n",
    "    \"account_number\": pa.Column(str, coerce=True),\n",
    "    \"site_number\": pa.Column(str, coerce=True),\n",
    "    \"legal_name\": pa.Column(str, coerce=True),\n",
    "    \"doing_business_as_name\": pa.Column(str, coerce=True, nullable=True),\n",
    "    \"address\": pa.Column(str, coerce=True),\n",
    "    \"city\": pa.Column(str, coerce=True, nullable=True, checks=[\n",
    "        pa.Check.eq(\"CHICAGO\")\n",
    "    ]),\n",
    "    \"state\": pa.Column(str, coerce=True, nullable=True, checks=[\n",
    "        pa.Check.eq(\"IL\")\n",
    "    ]),\n",
    "    \"zip_code\": pa.Column(str, coerce=True, nullable=True, checks=[\n",
    "        pa.Check(lambda x: x.str.match(r'^\\d{5}$').all())\n",
    "    ]),\n",
    "    \"ward\": pa.Column(str, coerce=True, nullable=True),\n",
    "    \"precinct\": pa.Column(str, coerce=True, nullable=True),\n",
    "    \"ward_precinct\": pa.Column(str, coerce=True, nullable=True),\n",
    "    \"police_district\": pa.Column(pa.Category, coerce=True, nullable=True),\n",
    "    \"license_code\": pa.Column(pa.Category, coerce=True, checks=[\n",
    "        pa.Check.isin(in_scope_license_codes)\n",
    "    ]),\n",
    "    \"license_description\": pa.Column(str, coerce=True),\n",
    "    \"business_activity_id\": pa.Column(str, coerce=True, nullable=True),\n",
    "    \"business_activity\": pa.Column(pa.Category, coerce=True, nullable=True),\n",
    "    \"license_number\": pa.Column(str, coerce=True),\n",
    "    \"application_type\": pa.Column(pa.Category, coerce=True),\n",
    "    \"application_created_date\": pa.Column(str, coerce=True, nullable=True),\n",
    "    \"application_requirements_complete\": pa.Column(pa.DateTime, coerce=True, nullable=True),\n",
    "    \"payment_date\": pa.Column(pa.DateTime, coerce=True, nullable=True),\n",
    "    \"conditional_approval\": pa.Column(bool, coerce=True),\n",
    "    \"license_start_date\": pa.Column(pa.DateTime, coerce=True, nullable=True),\n",
    "    \"expiration_date\": pa.Column(pa.DateTime, coerce=True, nullable=True),\n",
    "    \"license_approved_for_issuance\": pa.Column(pa.DateTime, coerce=True, nullable=True),\n",
    "    \"date_issued\": pa.Column(pa.DateTime, coerce=True),\n",
    "    \"license_status\": pa.Column(pa.Category, coerce=True),\n",
    "    \"license_status_change_date\": pa.Column(pa.DateTime, coerce=True, nullable=True),\n",
    "    \"ssa\": pa.Column(str, coerce=True, nullable=True),\n",
    "    \"latitude\": pa.Column(pa.Float, coerce=True, nullable=True, checks=[\n",
    "        pa.Check.between(38, 44)\n",
    "    ]),\n",
    "    \"longitude\": pa.Column(pa.Float, coerce=True, nullable=True, checks=[\n",
    "        pa.Check.between(-89, -84)\n",
    "    ]),\n",
    "})\n",
    "\n",
    "\n",
    "\n",
    "business_license_validated = business_license_schema.validate(business_license_tidy)\n",
    "business_license_validated"
   ]
  },
  {
   "attachments": {},
   "cell_type": "markdown",
   "metadata": {},
   "source": [
    "Insert the data into postgresql."
   ]
  },
  {
   "cell_type": "code",
   "execution_count": null,
   "metadata": {},
   "outputs": [],
   "source": [
    "# Insert the data into postgres. Inserting large amounts of data can be slow, so\n",
    "# iterate over 10,000 rows at a time.\n",
    "\n",
    "n_rows = business_license_validated.shape[0]\n",
    "step_size = 10_000\n",
    "\n",
    "for i in range(0, n_rows, step_size):\n",
    "    index_start = i\n",
    "    index_end = min(n_rows, i + step_size - 1)\n",
    "    \n",
    "    if i == 0:\n",
    "        if_exists = \"replace\"\n",
    "    else:\n",
    "        if_exists = \"append\"\n",
    "\n",
    "    print(f\"Inserting rows: {index_start:,} - {index_end:,}\")\n",
    "    \n",
    "    business_license_validated \\\n",
    "        .loc[index_start:index_end, :] \\\n",
    "        .to_sql(\"business_license_validated\", engine, if_exists=if_exists, index=False)"
   ]
  },
  {
   "cell_type": "code",
   "execution_count": null,
   "metadata": {},
   "outputs": [],
   "source": [
    "# Confirm number of rows\n",
    "pd.read_sql_query(\"SELECT COUNT(*) FROM business_license_validated\", engine)"
   ]
  },
  {
   "attachments": {},
   "cell_type": "markdown",
   "metadata": {},
   "source": [
    "## Data set (2): Food inspections\n",
    "\n",
    "<https://data.cityofchicago.org/Health-Human-Services/Food-Inspections/4ijn-s7e5>"
   ]
  },
  {
   "cell_type": "code",
   "execution_count": null,
   "metadata": {},
   "outputs": [],
   "source": [
    "food_inspection_raw"
   ]
  },
  {
   "attachments": {},
   "cell_type": "markdown",
   "metadata": {},
   "source": [
    "**Data cleaning**\n",
    "\n",
    "Apply some basic cleaning steps to the data."
   ]
  },
  {
   "cell_type": "code",
   "execution_count": null,
   "metadata": {},
   "outputs": [],
   "source": [
    "food_inspection_tidy = (food_inspection_raw\n",
    "\n",
    "    # Filter on the relevant state and city only.\n",
    "    .loc[food_inspection_raw[\"state\"] == \"IL\"]\n",
    "    .loc[food_inspection_raw[\"city\"] == \"CHICAGO\"]\n",
    "\n",
    "    # Drop columns that also exist in the business license data.\n",
    "    .drop(columns=[\"address\", \"city\", \"state\", \"latitude\", \"longitude\", \"location\"])\n",
    "\n",
    "    # Convert categorical columns to be all upper case for consistency\n",
    "    .assign(\n",
    "        dba_name=lambda x: x[\"dba_name\"].str.upper(),\n",
    "        aka_name=lambda x: x[\"aka_name\"].str.upper(),\n",
    "        facility_type=lambda x: x[\"facility_type\"].str.upper(),\n",
    "        risk=lambda x: x[\"risk\"].str.upper(),\n",
    "        inspection_type=lambda x: x[\"inspection_type\"].str.upper(),\n",
    "        results=lambda x: x[\"results\"].str.upper(),\n",
    "        violations=lambda x: x[\"violations\"].str.upper(),\n",
    "    )\n",
    "\n",
    "    # Specify the order of categorical columns.\n",
    "    .assign(risk=lambda x: x[\"risk\"].astype(\"category\").cat.set_categories([\"ALL\", \"RISK 1 (HIGH)\", \"RISK 2 (MEDIUM)\", \"RISK 3 (LOW)\"], ordered=True))\n",
    "\n",
    "    # The \"violations\" can have multiple violations separated by a \"|\". E.g.\n",
    "    # \"32. FOOD AND NON-FOOD ... REPLACED. | 33. FOOD AND NON-FOOD CONTACT E\"\n",
    "    # To make the data easier to work with split each violation into its own item.\n",
    "    # The result is the violations column will contain a list of strings.\n",
    "    .assign(violations=lambda x: x[\"violations\"].str.split(pat=\" \\| \"))\n",
    "\n",
    "    # Reset the index.\n",
    "    .reset_index(drop=True)\n",
    ")\n",
    "\n",
    "food_inspection_tidy"
   ]
  },
  {
   "attachments": {},
   "cell_type": "markdown",
   "metadata": {},
   "source": [
    "**Data validation**\n",
    "\n",
    "Use pandera to validate the data and convert each column to the correct type."
   ]
  },
  {
   "cell_type": "code",
   "execution_count": null,
   "metadata": {},
   "outputs": [],
   "source": [
    "food_inspection_schema = pa.DataFrameSchema({\n",
    "    \"inspection_id\": pa.Column(str, coerce=True, unique=True), # Primary Key\n",
    "    \"dba_name\": pa.Column(str, coerce=True),\n",
    "    \"aka_name\": pa.Column(str, coerce=True, nullable=True),\n",
    "    \"license_\": pa.Column(str, coerce=True, nullable=True), # Foreign Key\n",
    "    \"facility_type\": pa.Column(pa.Category, coerce=True, nullable=True),\n",
    "    \"risk\": pa.Column(str, coerce=True, nullable=True, checks=[\n",
    "        pa.Check.isin([\"ALL\", \"RISK 1 (HIGH)\", \"RISK 2 (MEDIUM)\", \"RISK 3 (LOW)\"])\n",
    "    ]),\n",
    "    \"zip\": pa.Column(str, coerce=True, nullable=True),\n",
    "    \"inspection_date\": pa.Column(pa.DateTime, coerce=True),\n",
    "    \"inspection_type\": pa.Column(pa.Category, coerce=True, nullable=True),\n",
    "    \"results\": pa.Column(pa.Category, coerce=True),\n",
    "    \"violations\": pa.Column(pa.Object, coerce=True, nullable=True)\n",
    "})\n",
    "\n",
    "food_inspection_validated = food_inspection_schema.validate(food_inspection_tidy)\n",
    "food_inspection_validated"
   ]
  },
  {
   "attachments": {},
   "cell_type": "markdown",
   "metadata": {},
   "source": [
    "Insert the data into postgresql."
   ]
  },
  {
   "cell_type": "code",
   "execution_count": null,
   "metadata": {},
   "outputs": [],
   "source": [
    "# Insert the data into postgres. Inserting large amounts of data can be slow, so\n",
    "# iterate over 10,000 rows at a time.\n",
    "\n",
    "n_rows = food_inspection_validated.shape[0]\n",
    "step_size = 10_000\n",
    "\n",
    "for i in range(0, n_rows, step_size):\n",
    "    index_start = i\n",
    "    index_end = min(n_rows, i + step_size - 1)\n",
    "    \n",
    "    if i == 0:\n",
    "        if_exists = \"replace\"\n",
    "    else:\n",
    "        if_exists = \"append\"\n",
    "\n",
    "    print(f\"Inserting rows: {index_start:,} - {index_end:,}\")\n",
    "\n",
    "    food_inspection_validated \\\n",
    "        .loc[index_start:index_end, :] \\\n",
    "        .to_sql(\"food_inspection_validated\", engine, if_exists=if_exists, index=False)"
   ]
  },
  {
   "cell_type": "code",
   "execution_count": null,
   "metadata": {},
   "outputs": [],
   "source": [
    "# Confirm number of rows\n",
    "pd.read_sql_query(\"SELECT COUNT(*) FROM food_inspection_validated\", engine)"
   ]
  },
  {
   "attachments": {},
   "cell_type": "markdown",
   "metadata": {},
   "source": [
    "## Data set (3): Map Data\n",
    "\n",
    "Generate map data for use in downstream applications."
   ]
  },
  {
   "cell_type": "code",
   "execution_count": null,
   "metadata": {},
   "outputs": [],
   "source": [
    "business_license_validated.sort_values(by=[\"legal_name\", \"expiration_date\"])"
   ]
  },
  {
   "cell_type": "markdown",
   "metadata": {},
   "source": [
    "The map data should have one row for each geographical location. The business license data could have many rows for each location because a location could have multiple licenses. To tidy this data we will collapse the data so that each location has only one row. The license details of that location will be nested into a new column \"license_data\"."
   ]
  },
  {
   "cell_type": "code",
   "execution_count": null,
   "metadata": {},
   "outputs": [],
   "source": [
    "# Only keep a subset of the columns that are relevant for mapping.\n",
    "map_cols = [\n",
    "    \"legal_name\", \n",
    "    \"doing_business_as_name\",\n",
    "    \"address\", \n",
    "    \"zip_code\",\n",
    "    \"latitude\",\n",
    "    \"longitude\",\n",
    "    \"license_id\",\n",
    "    \"license_code\",\n",
    "    \"license_description\",\n",
    "    \"license_start_date\",\n",
    "    \"expiration_date\",\n",
    "]\n",
    "\n",
    "# Apply the data cleaning steps.\n",
    "map_data = (\n",
    "    business_license_validated\n",
    "    # .head(100_000)\n",
    "    .loc[:, map_cols]\n",
    "    .drop_duplicates()\n",
    "    .reset_index(drop=True)\n",
    "    .groupby([\n",
    "        \"legal_name\", \n",
    "        \"doing_business_as_name\",\n",
    "        \"address\", \n",
    "        \"zip_code\",\n",
    "        \"latitude\",\n",
    "        \"longitude\"\n",
    "    ])\n",
    "    .apply(lambda x: [{\n",
    "        \"license_id\": row[\"license_id\"], \n",
    "        \"license_code\": row[\"license_code\"], \n",
    "        \"license_description\": row[\"license_description\"],\n",
    "        \"license_start_date\": row[\"license_start_date\"],\n",
    "        \"expiration_date\": row[\"expiration_date\"],\n",
    "    } for _, row in x.iterrows()])\n",
    "    .reset_index()\n",
    "    .rename({0: \"license_data\"}, axis=1)\n",
    ")\n",
    "\n",
    "map_data"
   ]
  },
  {
   "cell_type": "markdown",
   "metadata": {},
   "source": [
    "The license details of a specific row can be accessed as a list of dictionaries in the `license_data` column."
   ]
  },
  {
   "cell_type": "code",
   "execution_count": null,
   "metadata": {},
   "outputs": [],
   "source": [
    "map_data.loc[2, :]"
   ]
  },
  {
   "cell_type": "code",
   "execution_count": null,
   "metadata": {},
   "outputs": [],
   "source": [
    "map_data.loc[2, \"license_data\"]"
   ]
  },
  {
   "attachments": {},
   "cell_type": "markdown",
   "metadata": {},
   "source": [
    "Save the map data as a pin on Connect for easy access by other applications."
   ]
  },
  {
   "cell_type": "code",
   "execution_count": null,
   "metadata": {},
   "outputs": [],
   "source": [
    "# Pin the data to Connect\n",
    "pin_name = f\"{user_name}/chicago-business-map-data\"\n",
    "\n",
    "board.pin_write(\n",
    "    map_data, \n",
    "    name=pin_name, \n",
    "    type=\"arrow\", \n",
    "    versioned=True,\n",
    "    title=\"City of Chicago - Business Map Data\"\n",
    ")"
   ]
  }
 ],
 "metadata": {
  "kernelspec": {
   "display_name": ".venv",
   "language": "python",
   "name": "python3"
  },
  "language_info": {
   "codemirror_mode": {
    "name": "ipython",
    "version": 3
   },
   "file_extension": ".py",
   "mimetype": "text/x-python",
   "name": "python",
   "nbconvert_exporter": "python",
   "pygments_lexer": "ipython3",
   "version": "3.11.1"
  },
  "orig_nbformat": 4
 },
 "nbformat": 4,
 "nbformat_minor": 2
}
