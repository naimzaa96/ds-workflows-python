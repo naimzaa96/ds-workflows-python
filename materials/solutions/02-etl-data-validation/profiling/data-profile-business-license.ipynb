{
 "cells": [
  {
   "cell_type": "code",
   "execution_count": null,
   "metadata": {},
   "outputs": [],
   "source": [
    "import os\n",
    "\n",
    "import ibis\n",
    "from ydata_profiling import ProfileReport"
   ]
  },
  {
   "cell_type": "code",
   "execution_count": null,
   "metadata": {},
   "outputs": [],
   "source": [
    "# Set up ibis for reading data\n",
    "con = ibis.postgres.connect(\n",
    "    user=\"posit\",\n",
    "    password=os.getenv(\"CONF23_DB_PASSWORD\"),\n",
    "    host=os.getenv(\"CONF23_DB_HOST\"),\n",
    "    port=5432,\n",
    "    database=\"conf23_python\"\n",
    ")"
   ]
  },
  {
   "cell_type": "code",
   "execution_count": null,
   "metadata": {},
   "outputs": [],
   "source": [
    "business_license_raw = con.table(name=\"business_license_raw\").limit(10_000).to_pandas()\n",
    "business_license_raw"
   ]
  },
  {
   "cell_type": "code",
   "execution_count": null,
   "metadata": {},
   "outputs": [],
   "source": [
    "business_license_raw.infer_objects().info()"
   ]
  },
  {
   "cell_type": "code",
   "execution_count": null,
   "metadata": {},
   "outputs": [],
   "source": [
    "profile = ProfileReport(business_license_raw, title=\"Business License Data Profile\")\n",
    "profile.to_widgets()"
   ]
  }
 ],
 "metadata": {
  "kernelspec": {
   "display_name": "Python 3",
   "language": "python",
   "name": "python3"
  },
  "language_info": {
   "codemirror_mode": {
    "name": "ipython",
    "version": 3
   },
   "file_extension": ".py",
   "mimetype": "text/x-python",
   "name": "python",
   "nbconvert_exporter": "python",
   "pygments_lexer": "ipython3",
   "version": "3.11.1"
  },
  "orig_nbformat": 4
 },
 "nbformat": 4,
 "nbformat_minor": 2
}
