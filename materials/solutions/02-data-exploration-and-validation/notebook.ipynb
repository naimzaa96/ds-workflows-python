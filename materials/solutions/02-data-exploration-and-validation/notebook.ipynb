{
 "cells": [
  {
   "attachments": {},
   "cell_type": "markdown",
   "metadata": {},
   "source": [
    "# Data Validation"
   ]
  },
  {
   "attachments": {},
   "cell_type": "markdown",
   "metadata": {},
   "source": [
    "In the previous notebook, two tables were saved:\n",
    "\n",
    "- City of Chicago - Business License Data (RAW): `chicago-business-license-data`\n",
    "- City of Chicago - Food Inspection Data (RAW): `chicago-food-inspection-data`"
   ]
  },
  {
   "attachments": {},
   "cell_type": "markdown",
   "metadata": {},
   "source": [
    "## Setup"
   ]
  },
  {
   "cell_type": "code",
   "execution_count": null,
   "metadata": {},
   "outputs": [],
   "source": [
    "import os\n",
    "import requests\n",
    "\n",
    "import ibis\n",
    "import pandas as pd\n",
    "import numpy as np\n",
    "import pandera as pa\n",
    "from sqlalchemy import create_engine, text"
   ]
  },
  {
   "cell_type": "code",
   "execution_count": null,
   "metadata": {},
   "outputs": [],
   "source": [
    "pd.options.display.max_columns = 999"
   ]
  },
  {
   "cell_type": "code",
   "execution_count": null,
   "metadata": {},
   "outputs": [],
   "source": [
    "# Database details\n",
    "db_user = \"posit\"\n",
    "db_password = os.environ[\"CONF23_DB_PASSWORD\"]\n",
    "db_host = os.environ[\"CONF23_DB_HOST\"]\n",
    "db_port = 5432\n",
    "db_database = \"conf23_python\"\n",
    "\n",
    "# Set up sqlalchemy for writing data\n",
    "engine = create_engine(f\"postgresql+psycopg2://{db_user}:{db_password}@{db_host}/{db_database}\")\n",
    "\n",
    "# Set up ibis for reading data\n",
    "con = ibis.postgres.connect(\n",
    "    user=db_user,\n",
    "    password=db_password,\n",
    "    host=db_host,\n",
    "    port=db_port,\n",
    "    database=db_database\n",
    ")"
   ]
  },
  {
   "cell_type": "markdown",
   "metadata": {},
   "source": [
    "Set dyanmic variables. To ensure that we do not have overload the database or the server, only the instructors scripts will run on the full data set."
   ]
  },
  {
   "cell_type": "code",
   "execution_count": null,
   "metadata": {},
   "outputs": [],
   "source": [
    "connect_username = requests.get(\n",
    "    f\"{os.environ['CONNECT_SERVER']}/__api__/v1/user\",\n",
    "    headers={\"Authorization\": f\"Key {os.environ['CONNECT_API_KEY']}\"}\n",
    ").json()[\"username\"]\n",
    "\n",
    "connect_username"
   ]
  },
  {
   "cell_type": "code",
   "execution_count": null,
   "metadata": {},
   "outputs": [],
   "source": [
    "if connect_username == \"sam.edwardes\":\n",
    "    max_rows = 99_999_999\n",
    "else:\n",
    "    max_rows = 10_000\n",
    "\n",
    "max_rows"
   ]
  },
  {
   "attachments": {},
   "cell_type": "markdown",
   "metadata": {},
   "source": [
    "## Load raw data\n",
    "\n",
    "Use `ibis` to read the data from Postgres."
   ]
  },
  {
   "cell_type": "code",
   "execution_count": null,
   "metadata": {},
   "outputs": [],
   "source": [
    "business_license_raw = con.table(\"business_license_raw\").limit(max_rows).to_pandas()"
   ]
  },
  {
   "cell_type": "code",
   "execution_count": null,
   "metadata": {},
   "outputs": [],
   "source": [
    "food_inspection_raw = con.table(\"food_inspection_raw\").limit(max_rows).to_pandas()"
   ]
  },
  {
   "attachments": {},
   "cell_type": "markdown",
   "metadata": {},
   "source": [
    "## Data Exploration"
   ]
  },
  {
   "cell_type": "markdown",
   "metadata": {},
   "source": [
    "Does each license only one row in the table?"
   ]
  },
  {
   "cell_type": "code",
   "execution_count": null,
   "metadata": {},
   "outputs": [],
   "source": [
    "business_license_raw[\"license_id\"].value_counts().sort_values(ascending=False)"
   ]
  },
  {
   "cell_type": "markdown",
   "metadata": {},
   "source": [
    "Does all the data relate to Chicago?"
   ]
  },
  {
   "cell_type": "code",
   "execution_count": null,
   "metadata": {},
   "outputs": [],
   "source": [
    "business_license_raw[\"city\"].value_counts().sort_values(ascending=False)"
   ]
  },
  {
   "cell_type": "code",
   "execution_count": null,
   "metadata": {},
   "outputs": [],
   "source": [
    "business_license_raw[\"state\"].value_counts().sort_values(ascending=False)"
   ]
  },
  {
   "cell_type": "markdown",
   "metadata": {},
   "source": [
    "##### Food inspection data "
   ]
  },
  {
   "cell_type": "markdown",
   "metadata": {},
   "source": [
    "What are the different risk levels?"
   ]
  },
  {
   "cell_type": "code",
   "execution_count": null,
   "metadata": {},
   "outputs": [],
   "source": [
    "food_inspection_raw[\"risk\"].value_counts().plot(kind=\"barh\")"
   ]
  },
  {
   "cell_type": "markdown",
   "metadata": {},
   "source": [
    "What are the most common violations?"
   ]
  },
  {
   "cell_type": "code",
   "execution_count": null,
   "metadata": {},
   "outputs": [],
   "source": [
    "food_inspection_raw[\"violations\"].value_counts().sort_values(ascending=False)"
   ]
  },
  {
   "cell_type": "markdown",
   "metadata": {},
   "source": [
    "What are the most common outcomes?"
   ]
  },
  {
   "cell_type": "code",
   "execution_count": null,
   "metadata": {},
   "outputs": [],
   "source": [
    "food_inspection_raw[\"results\"].value_counts().plot(kind=\"barh\")"
   ]
  },
  {
   "cell_type": "markdown",
   "metadata": {},
   "source": [
    "What are the most common facility types?"
   ]
  },
  {
   "cell_type": "code",
   "execution_count": null,
   "metadata": {},
   "outputs": [],
   "source": [
    "food_inspection_raw[\"facility_type\"].value_counts().sort_values(ascending=False).head(25)"
   ]
  },
  {
   "attachments": {},
   "cell_type": "markdown",
   "metadata": {},
   "source": [
    "## Data set (1): Business License Data\n",
    "\n",
    "<https://data.cityofchicago.org/Community-Economic-Development/Business-Licenses/r5kz-chrr>"
   ]
  },
  {
   "cell_type": "code",
   "execution_count": null,
   "metadata": {},
   "outputs": [],
   "source": [
    "business_license_raw"
   ]
  },
  {
   "attachments": {},
   "cell_type": "markdown",
   "metadata": {},
   "source": [
    "**Data tidying**\n",
    "\n",
    "Apply some basic tidying steps to the data."
   ]
  },
  {
   "cell_type": "code",
   "execution_count": null,
   "metadata": {},
   "outputs": [],
   "source": [
    "business_license_tidy = business_license_raw.copy()\n",
    "business_license_tidy"
   ]
  },
  {
   "cell_type": "code",
   "execution_count": null,
   "metadata": {},
   "outputs": [],
   "source": [
    "# Filter to only keep state of IL\n",
    "business_license_tidy = business_license_tidy.assign(\n",
    "    state=business_license_tidy[\"state\"].str.upper()\n",
    ")\n",
    "\n",
    "business_license_tidy = business_license_tidy.loc[business_license_tidy[\"state\"] == \"IL\", :]"
   ]
  },
  {
   "cell_type": "code",
   "execution_count": null,
   "metadata": {},
   "outputs": [],
   "source": [
    "# Filter to only keep city of Chicago\n",
    "business_license_tidy = business_license_tidy.assign(\n",
    "    city=business_license_tidy[\"city\"].str.upper()\n",
    ")\n",
    "\n",
    "business_license_tidy = business_license_tidy.loc[business_license_tidy[\"city\"] == \"CHICAGO\", :]"
   ]
  },
  {
   "cell_type": "code",
   "execution_count": null,
   "metadata": {},
   "outputs": [],
   "source": [
    "# Convert conditional approval to a boolean value.\n",
    "business_license_tidy = business_license_tidy.assign(\n",
    "    conditional_approval=business_license_tidy[\"conditional_approval\"].str.upper()\n",
    ")\n",
    "\n",
    "business_license_tidy = business_license_tidy.assign(\n",
    "    conditional_approval=business_license_tidy[\"conditional_approval\"].apply(lambda x: x == \"Y\")\n",
    ")"
   ]
  },
  {
   "cell_type": "code",
   "execution_count": null,
   "metadata": {},
   "outputs": [],
   "source": [
    "# Drop the \"location\" column, the same data is already stored in the \"latitude\"\n",
    "# and \"longitude\" columns.\n",
    "business_license_tidy = business_license_tidy.drop(columns=[\"location\"])"
   ]
  },
  {
   "cell_type": "code",
   "execution_count": null,
   "metadata": {},
   "outputs": [],
   "source": [
    "# Reset the index\n",
    "business_license_tidy = business_license_tidy.reset_index(drop=True)"
   ]
  },
  {
   "attachments": {},
   "cell_type": "markdown",
   "metadata": {},
   "source": [
    "**Data validation**\n",
    "\n",
    "Use pandera to validate the data and convert each column to the correct type."
   ]
  },
  {
   "cell_type": "code",
   "execution_count": null,
   "metadata": {},
   "outputs": [],
   "source": [
    "business_license_schema = pa.DataFrameSchema(\n",
    "    columns={\n",
    "        \"id\": pa.Column(str, coerce=True),\n",
    "        \"license_id\": pa.Column(str, coerce=True, unique=True), # Primary Key\n",
    "        \"account_number\": pa.Column(str, coerce=True),\n",
    "        \"site_number\": pa.Column(str, coerce=True),\n",
    "        \"legal_name\": pa.Column(str, coerce=True),\n",
    "        \"doing_business_as_name\": pa.Column(str, coerce=True, nullable=True),\n",
    "        \"address\": pa.Column(str, coerce=True),\n",
    "        \"city\": pa.Column(str, coerce=True, nullable=True, checks=[\n",
    "            pa.Check.eq(\"CHICAGO\")\n",
    "        ]),\n",
    "        \"state\": pa.Column(str, coerce=True, nullable=True, checks=[\n",
    "            pa.Check.eq(\"IL\")\n",
    "        ]),\n",
    "        \"zip_code\": pa.Column(str, coerce=True, nullable=True, checks=[\n",
    "            pa.Check(lambda x: x.str.match(r'^\\d{5}$').all())\n",
    "        ]),\n",
    "        \"ward\": pa.Column(str, coerce=True, nullable=True),\n",
    "        \"precinct\": pa.Column(str, coerce=True, nullable=True),\n",
    "        \"ward_precinct\": pa.Column(str, coerce=True, nullable=True),\n",
    "        \"police_district\": pa.Column(pa.Category, coerce=True, nullable=True),\n",
    "        \"license_code\": pa.Column(pa.Category, coerce=True),\n",
    "        \"license_description\": pa.Column(str, coerce=True),\n",
    "        \"business_activity_id\": pa.Column(str, coerce=True, nullable=True),\n",
    "        \"business_activity\": pa.Column(pa.Category, coerce=True, nullable=True),\n",
    "        \"license_number\": pa.Column(str, coerce=True),\n",
    "        \"application_type\": pa.Column(pa.Category, coerce=True),\n",
    "        \"application_created_date\": pa.Column(str, coerce=True, nullable=True),\n",
    "        \"application_requirements_complete\": pa.Column(pa.DateTime, coerce=True, nullable=True),\n",
    "        \"payment_date\": pa.Column(pa.DateTime, coerce=True, nullable=True),\n",
    "        \"conditional_approval\": pa.Column(bool, coerce=True),\n",
    "        \"license_start_date\": pa.Column(pa.DateTime, coerce=True, nullable=True),\n",
    "        \"expiration_date\": pa.Column(pa.DateTime, coerce=True, nullable=True),\n",
    "        \"license_approved_for_issuance\": pa.Column(pa.DateTime, coerce=True, nullable=True),\n",
    "        \"date_issued\": pa.Column(pa.DateTime, coerce=True),\n",
    "        \"license_status\": pa.Column(pa.Category, coerce=True),\n",
    "        \"license_status_change_date\": pa.Column(pa.DateTime, coerce=True, nullable=True),\n",
    "        \"ssa\": pa.Column(str, coerce=True, nullable=True),\n",
    "        \"latitude\": pa.Column(pa.Float, coerce=True, nullable=True, checks=[\n",
    "            pa.Check.between(38, 44)\n",
    "        ]),\n",
    "        \"longitude\": pa.Column(pa.Float, coerce=True, nullable=True, checks=[\n",
    "            pa.Check.between(-89, -84)\n",
    "        ]),\n",
    "    }\n",
    ")\n",
    "\n",
    "\n",
    "business_license_validated = business_license_schema.validate(business_license_tidy)\n",
    "business_license_validated"
   ]
  },
  {
   "attachments": {},
   "cell_type": "markdown",
   "metadata": {},
   "source": [
    "Insert the data into postgresql."
   ]
  },
  {
   "cell_type": "code",
   "execution_count": null,
   "metadata": {},
   "outputs": [],
   "source": [
    "# determine the table name\n",
    "if connect_username == \"sam.edwardes\":\n",
    "    table_name_prefix = \"\"\n",
    "else:\n",
    "    table_name_prefix = re.sub('[^0-9a-zA-Z]+', '_', connect_username) + \"_\""
   ]
  },
  {
   "cell_type": "code",
   "execution_count": null,
   "metadata": {},
   "outputs": [],
   "source": [
    "table_name = f\"{table_name_prefix}business_license_validated\"\n",
    "table_name"
   ]
  },
  {
   "cell_type": "code",
   "execution_count": null,
   "metadata": {},
   "outputs": [],
   "source": [
    "# Insert the data into postgres. Inserting large amounts of data can be slow, so\n",
    "# iterate over 10,000 rows at a time.\n",
    "\n",
    "n_rows = business_license_validated.shape[0]\n",
    "step_size = 10_000\n",
    "\n",
    "for i in range(0, n_rows, step_size):\n",
    "    index_start = i\n",
    "    index_end = min(n_rows, i + step_size - 1)\n",
    "    \n",
    "    if i == 0:\n",
    "        if_exists = \"replace\"\n",
    "    else:\n",
    "        if_exists = \"append\"\n",
    "\n",
    "    print(f\"Inserting rows: {index_start:,} - {index_end:,}\")\n",
    "    \n",
    "    business_license_validated \\\n",
    "        .loc[index_start:index_end, :] \\\n",
    "        .to_sql(table_name, engine, if_exists=if_exists, index=False)"
   ]
  },
  {
   "cell_type": "code",
   "execution_count": null,
   "metadata": {},
   "outputs": [],
   "source": [
    "# Confirm number of rows\n",
    "with engine.begin() as conn:\n",
    "    query = text(f\"SELECT COUNT(*) FROM {table_name}\")\n",
    "    number_of_rows = pd.read_sql_query(query, conn)\n",
    "\n",
    "print(number_of_rows)"
   ]
  },
  {
   "attachments": {},
   "cell_type": "markdown",
   "metadata": {},
   "source": [
    "## Data set (2): Food inspections\n",
    "\n",
    "<https://data.cityofchicago.org/Health-Human-Services/Food-Inspections/4ijn-s7e5>"
   ]
  },
  {
   "cell_type": "code",
   "execution_count": null,
   "metadata": {},
   "outputs": [],
   "source": [
    "food_inspection_raw"
   ]
  },
  {
   "attachments": {},
   "cell_type": "markdown",
   "metadata": {},
   "source": [
    "**Data cleaning**\n",
    "\n",
    "Apply some basic cleaning steps to the data."
   ]
  },
  {
   "cell_type": "code",
   "execution_count": null,
   "metadata": {},
   "outputs": [],
   "source": [
    "food_inspection_tidy = food_inspection_raw.copy()"
   ]
  },
  {
   "cell_type": "code",
   "execution_count": null,
   "metadata": {},
   "outputs": [],
   "source": [
    "# Filter to only keep state of IL\n",
    "food_inspection_tidy = food_inspection_tidy.assign(\n",
    "    state=food_inspection_tidy[\"state\"].str.upper()\n",
    ")\n",
    "\n",
    "food_inspection_tidy = food_inspection_tidy.loc[food_inspection_tidy[\"state\"] == \"IL\", :]"
   ]
  },
  {
   "cell_type": "code",
   "execution_count": null,
   "metadata": {},
   "outputs": [],
   "source": [
    "# Filter to only keep city of Chicago\n",
    "food_inspection_tidy = food_inspection_tidy.assign(\n",
    "    city=food_inspection_tidy[\"city\"].str.upper()\n",
    ")\n",
    "\n",
    "food_inspection_tidy = food_inspection_tidy.loc[food_inspection_tidy[\"city\"] == \"CHICAGO\", :]"
   ]
  },
  {
   "cell_type": "code",
   "execution_count": null,
   "metadata": {},
   "outputs": [],
   "source": [
    "# Drop columns that also exist in the business license data.\n",
    "food_inspection_tidy = food_inspection_tidy.drop(columns=[\"address\", \"city\", \"state\", \"latitude\", \"longitude\", \"location\"])"
   ]
  },
  {
   "cell_type": "code",
   "execution_count": null,
   "metadata": {},
   "outputs": [],
   "source": [
    "# Convert categorical columns to be all upper case for consistency\n",
    "food_inspection_tidy = food_inspection_tidy.assign(\n",
    "    dba_name=lambda x: x[\"dba_name\"].str.upper(),\n",
    "    aka_name=lambda x: x[\"aka_name\"].str.upper(),\n",
    "    facility_type=lambda x: x[\"facility_type\"].str.upper(),\n",
    "    risk=lambda x: x[\"risk\"].str.upper(),\n",
    "    inspection_type=lambda x: x[\"inspection_type\"].str.upper(),\n",
    "    results=lambda x: x[\"results\"].str.upper(),\n",
    "    violations=lambda x: x[\"violations\"].str.upper(),\n",
    ")"
   ]
  },
  {
   "cell_type": "code",
   "execution_count": null,
   "metadata": {},
   "outputs": [],
   "source": [
    "# Specify the order of categorical columns.\n",
    "food_inspection_tidy = food_inspection_tidy.assign(\n",
    "    risk=lambda x: x[\"risk\"].astype(\"category\").cat.set_categories(\n",
    "        [\"ALL\", \"RISK 1 (HIGH)\", \"RISK 2 (MEDIUM)\", \"RISK 3 (LOW)\"], \n",
    "        ordered=True\n",
    "    )\n",
    ")"
   ]
  },
  {
   "cell_type": "code",
   "execution_count": null,
   "metadata": {},
   "outputs": [],
   "source": [
    "# The \"violations\" can have multiple violations separated by a \"|\". E.g.\n",
    "# \"32. FOOD AND NON-FOOD ... REPLACED. | 33. FOOD AND NON-FOOD CONTACT E\"\n",
    "# To make the data easier to work with split each violation into its own item.\n",
    "# The result is the violations column will contain a list of strings.\n",
    "food_inspection_tidy = food_inspection_tidy.assign(violations=lambda x: x[\"violations\"].str.split(pat=\" \\| \"))"
   ]
  },
  {
   "cell_type": "code",
   "execution_count": null,
   "metadata": {},
   "outputs": [],
   "source": [
    "food_inspection_tidy = food_inspection_tidy.reset_index(drop=True)"
   ]
  },
  {
   "attachments": {},
   "cell_type": "markdown",
   "metadata": {},
   "source": [
    "**Data validation**\n",
    "\n",
    "Use pandera to validate the data and convert each column to the correct type."
   ]
  },
  {
   "cell_type": "code",
   "execution_count": null,
   "metadata": {},
   "outputs": [],
   "source": [
    "food_inspection_schema = pa.DataFrameSchema({\n",
    "    \"inspection_id\": pa.Column(str, coerce=True, unique=True), # Primary Key\n",
    "    \"dba_name\": pa.Column(str, coerce=True),\n",
    "    \"aka_name\": pa.Column(str, coerce=True, nullable=True),\n",
    "    \"license_\": pa.Column(str, coerce=True, nullable=True), # Foreign Key\n",
    "    \"facility_type\": pa.Column(pa.Category, coerce=True, nullable=True),\n",
    "    \"risk\": pa.Column(str, coerce=True, nullable=True, checks=[\n",
    "        pa.Check.isin([\"ALL\", \"RISK 1 (HIGH)\", \"RISK 2 (MEDIUM)\", \"RISK 3 (LOW)\"])\n",
    "    ]),\n",
    "    \"zip\": pa.Column(str, coerce=True, nullable=True),\n",
    "    \"inspection_date\": pa.Column(pa.DateTime, coerce=True),\n",
    "    \"inspection_type\": pa.Column(pa.Category, coerce=True, nullable=True),\n",
    "    \"results\": pa.Column(pa.Category, coerce=True),\n",
    "    \"violations\": pa.Column(pa.Object, coerce=True, nullable=True)\n",
    "})\n",
    "\n",
    "food_inspection_validated = food_inspection_schema.validate(food_inspection_tidy)\n",
    "food_inspection_validated"
   ]
  },
  {
   "attachments": {},
   "cell_type": "markdown",
   "metadata": {},
   "source": [
    "Insert the data into postgresql."
   ]
  },
  {
   "cell_type": "code",
   "execution_count": null,
   "metadata": {},
   "outputs": [],
   "source": [
    "# determine the table name\n",
    "if connect_username == \"sam.edwardes\":\n",
    "    table_name_prefix = \"\"\n",
    "else:\n",
    "    table_name_prefix = re.sub('[^0-9a-zA-Z]+', '_', \"sam-edwardes\") + \"_\"\n",
    "\n",
    "table_name = f\"{table_name_prefix}food_inspection_validated\"\n",
    "\n",
    "table_name"
   ]
  },
  {
   "cell_type": "code",
   "execution_count": null,
   "metadata": {},
   "outputs": [],
   "source": [
    "\n",
    "# Insert the data into postgres. Inserting large amounts of data can be slow, so\n",
    "# iterate over 10,000 rows at a time.\n",
    "\n",
    "n_rows = food_inspection_validated.shape[0]\n",
    "step_size = 10_000\n",
    "\n",
    "for i in range(0, n_rows, step_size):\n",
    "    index_start = i\n",
    "    index_end = min(n_rows, i + step_size - 1)\n",
    "    \n",
    "    if i == 0:\n",
    "        if_exists = \"replace\"\n",
    "    else:\n",
    "        if_exists = \"append\"\n",
    "\n",
    "    print(f\"Inserting rows: {index_start:,} - {index_end:,}\")\n",
    "\n",
    "    food_inspection_validated \\\n",
    "        .loc[index_start:index_end, :] \\\n",
    "        .to_sql(table_name, engine, if_exists=if_exists, index=False)"
   ]
  },
  {
   "cell_type": "code",
   "execution_count": null,
   "metadata": {},
   "outputs": [],
   "source": [
    "# Confirm number of rows\n",
    "with engine.begin() as conn:\n",
    "    query = text(f\"SELECT COUNT(*) FROM {table_name}\")\n",
    "    number_of_rows = pd.read_sql_query(query, conn)\n",
    "\n",
    "print(number_of_rows)"
   ]
  }
 ],
 "metadata": {
  "kernelspec": {
   "display_name": ".venv",
   "language": "python",
   "name": "python3"
  },
  "language_info": {
   "codemirror_mode": {
    "name": "ipython",
    "version": 3
   },
   "file_extension": ".py",
   "mimetype": "text/x-python",
   "name": "python",
   "nbconvert_exporter": "python",
   "pygments_lexer": "ipython3",
   "version": "3.11.3"
  },
  "orig_nbformat": 4
 },
 "nbformat": 4,
 "nbformat_minor": 2
}
