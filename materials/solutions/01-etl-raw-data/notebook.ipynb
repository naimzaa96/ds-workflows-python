{
 "cells": [
  {
   "attachments": {},
   "cell_type": "markdown",
   "metadata": {},
   "source": [
    "# Raw Data Ingestion\n",
    "\n",
    "This workshop will use data from the City of Chicago Open Data Portal: <https://data.cityofchicago.org>. The following datasets will be used:\n",
    "\n",
    "1. Business license data: <https://data.cityofchicago.org/Community-Economic-Development/Business-Licenses/r5kz-chrr>\n",
    "2. Food inspections: <https://data.cityofchicago.org/Health-Human-Services/Food-Inspections/4ijn-s7e5>"
   ]
  },
  {
   "attachments": {},
   "cell_type": "markdown",
   "metadata": {},
   "source": [
    "## Setup"
   ]
  },
  {
   "cell_type": "code",
   "execution_count": null,
   "metadata": {},
   "outputs": [],
   "source": [
    "import os\n",
    "import requests\n",
    "import re\n",
    "from urllib.parse import urlencode\n",
    "\n",
    "import pandas as pd\n",
    "from sqlalchemy import create_engine, text"
   ]
  },
  {
   "cell_type": "code",
   "execution_count": null,
   "metadata": {},
   "outputs": [],
   "source": [
    "# Jupyter / Pandas settings\n",
    "pd.options.display.max_columns = 999"
   ]
  },
  {
   "cell_type": "code",
   "execution_count": null,
   "metadata": {},
   "outputs": [],
   "source": [
    "# Set up postgresql connection\n",
    "db_user = \"posit\"\n",
    "db_password = os.environ[\"CONF23_DB_PASSWORD\"]\n",
    "db_host = os.environ[\"CONF23_DB_HOST\"]\n",
    "db_port = 5432\n",
    "db_database = \"conf23_python\"\n",
    "engine = create_engine(f\"postgresql+psycopg2://{db_user}:{db_password}@{db_host}/{db_database}\")\n",
    "engine"
   ]
  },
  {
   "attachments": {},
   "cell_type": "markdown",
   "metadata": {},
   "source": [
    "Set dyanmic variables. To ensure that we do not have overload the database or the server, only the instructors scripts will run on the full data set."
   ]
  },
  {
   "cell_type": "code",
   "execution_count": null,
   "metadata": {},
   "outputs": [],
   "source": [
    "connect_username = requests.get(\n",
    "    f\"{os.environ['CONNECT_SERVER']}/__api__/v1/user\",\n",
    "    headers={\"Authorization\": f\"Key {os.environ['CONNECT_API_KEY']}\"}\n",
    ").json()[\"username\"]\n",
    "\n",
    "connect_username"
   ]
  },
  {
   "cell_type": "code",
   "execution_count": null,
   "metadata": {},
   "outputs": [],
   "source": [
    "if connect_username == \"sam.edwardes\":\n",
    "    max_rows = 99_999_999\n",
    "else:\n",
    "    max_rows = 10_000\n",
    "\n",
    "max_rows"
   ]
  },
  {
   "attachments": {},
   "cell_type": "markdown",
   "metadata": {},
   "source": [
    "## Data set (1): Food inspections\n",
    "\n",
    "<https://data.cityofchicago.org/Health-Human-Services/Food-Inspections/4ijn-s7e5>"
   ]
  },
  {
   "cell_type": "markdown",
   "metadata": {},
   "source": [
    "**Step 1:** Gew the raw data from the data portal"
   ]
  },
  {
   "cell_type": "code",
   "execution_count": null,
   "metadata": {},
   "outputs": [],
   "source": [
    "base_url = \"https://data.cityofchicago.org/resource/4ijn-s7e5.csv\"\n",
    "params = {\"$order\": \"inspection_date\", \"$limit\": max_rows}\n",
    "url = f\"{base_url}?{urlencode(params)}\"\n",
    "url"
   ]
  },
  {
   "cell_type": "code",
   "execution_count": null,
   "metadata": {},
   "outputs": [],
   "source": [
    "# Read everything as a string so that the formatting is preserved. We will use \n",
    "# pandera later to convert everything to the correct type.\n",
    "food_inspection_data = pd.read_csv(url, dtype=str)\n",
    "food_inspection_data"
   ]
  },
  {
   "cell_type": "markdown",
   "metadata": {},
   "source": [
    "**Step 2:** Save to data to Postgres"
   ]
  },
  {
   "attachments": {},
   "cell_type": "markdown",
   "metadata": {},
   "source": [
    "Determine a prefix for the table name so that we do not overwrite eachothers data."
   ]
  },
  {
   "cell_type": "code",
   "execution_count": null,
   "metadata": {},
   "outputs": [],
   "source": [
    "# determine the table name\n",
    "if connect_username == \"sam.edwardes\":\n",
    "    table_name_prefix = \"\"\n",
    "else:\n",
    "    table_name_prefix = re.sub('[^0-9a-zA-Z]+', '_', \"sam-edwardes\") + \"_\"\n",
    "\n",
    "table_name = f\"{table_name_prefix}food_inspection_raw\"\n",
    "\n",
    "table_name"
   ]
  },
  {
   "cell_type": "code",
   "execution_count": null,
   "metadata": {},
   "outputs": [],
   "source": [
    "# Insert the data into postgres. Inserting large amounts of data can be slow, so\n",
    "# iterate over 10,000 rows at a time.\n",
    "\n",
    "n_rows = food_inspection_data.shape[0]\n",
    "step_size = 10_000\n",
    "\n",
    "for i in range(0, n_rows, step_size):\n",
    "    index_start = i\n",
    "    index_end = min(n_rows, i + step_size - 1)\n",
    "    \n",
    "    if i == 0:\n",
    "        if_exists = \"replace\"\n",
    "    else:\n",
    "        if_exists = \"append\"\n",
    "\n",
    "    print(f\"Inserting rows: {index_start:,} - {index_end:,}\")\n",
    "\n",
    "    food_inspection_data \\\n",
    "        .loc[index_start:index_end, :] \\\n",
    "        .to_sql(table_name, engine, if_exists=if_exists, index=False)"
   ]
  },
  {
   "cell_type": "code",
   "execution_count": null,
   "metadata": {},
   "outputs": [],
   "source": [
    "# Confirm number of rows\n",
    "with engine.begin() as conn:\n",
    "    query = text(f\"SELECT COUNT(*) FROM {table_name}\")\n",
    "    data_from_sql = pd.read_sql_query(query, conn)\n",
    "\n",
    "print(data_from_sql)"
   ]
  },
  {
   "attachments": {},
   "cell_type": "markdown",
   "metadata": {},
   "source": [
    "## Data set (2): Business License Data\n",
    "\n",
    "<https://data.cityofchicago.org/Community-Economic-Development/Business-Licenses/r5kz-chrr>"
   ]
  },
  {
   "attachments": {},
   "cell_type": "markdown",
   "metadata": {},
   "source": [
    "**Step 1:** Gew the raw data from the data portal"
   ]
  },
  {
   "cell_type": "code",
   "execution_count": null,
   "metadata": {},
   "outputs": [],
   "source": [
    "base_url = \"https://data.cityofchicago.org/resource/r5kz-chrr.csv\"\n",
    "params = {\"$order\": \"id\", \"$limit\": max_rows}\n",
    "url = f\"{base_url}?{urlencode(params)}\"\n",
    "url"
   ]
  },
  {
   "cell_type": "code",
   "execution_count": null,
   "metadata": {},
   "outputs": [],
   "source": [
    "# Read everything as a string so that the formatting is preserved. We will use \n",
    "# pandera later to convert everything to the correct type.\n",
    "business_license_data = pd.read_csv(url, dtype=str)\n",
    "business_license_data"
   ]
  },
  {
   "cell_type": "code",
   "execution_count": null,
   "metadata": {},
   "outputs": [],
   "source": [
    "# To speed things up, we will only keep the license data for establishments\n",
    "# that have food inspection data.\n",
    "business_license_data = pd.merge(\n",
    "    business_license_data,\n",
    "    food_inspection_data[[\"license_\"]].drop_duplicates(),\n",
    "    how=\"inner\",\n",
    "    left_on=\"license_id\",\n",
    "    right_on=\"license_\"\n",
    ").drop(\n",
    "    columns=\"license_\"\n",
    ")\n",
    "\n",
    "business_license_data.info()"
   ]
  },
  {
   "attachments": {},
   "cell_type": "markdown",
   "metadata": {},
   "source": [
    "**Step 2:** Save data to Postgres"
   ]
  },
  {
   "cell_type": "code",
   "execution_count": null,
   "metadata": {},
   "outputs": [],
   "source": [
    "table_name = f\"{table_name_prefix}business_license_raw\"\n",
    "table_name"
   ]
  },
  {
   "cell_type": "code",
   "execution_count": null,
   "metadata": {},
   "outputs": [],
   "source": [
    "# Insert the data into postgres. Inserting large amounts of data can be slow, so\n",
    "# iterate over 10,000 rows at a time.\n",
    "\n",
    "# TODO: dynamically insert user name into table if not PROD\n",
    "\n",
    "n_rows = business_license_data.shape[0]\n",
    "step_size = 10_000\n",
    "\n",
    "for i in range(0, n_rows, step_size):\n",
    "    index_start = i\n",
    "    index_end = min(n_rows, i + step_size - 1)\n",
    "    \n",
    "    if i == 0:\n",
    "        if_exists = \"replace\"\n",
    "    else:\n",
    "        if_exists = \"append\"\n",
    "\n",
    "    print(f\"Inserting rows: {index_start:,} - {index_end:,}\")\n",
    "    \n",
    "    business_license_data \\\n",
    "        .loc[index_start:index_end, :] \\\n",
    "        .to_sql(table_name, engine, if_exists=if_exists, index=False)"
   ]
  },
  {
   "cell_type": "code",
   "execution_count": null,
   "metadata": {},
   "outputs": [],
   "source": [
    "# Confirm number of rows\n",
    "with engine.begin() as conn:\n",
    "    query = text(f\"SELECT COUNT(*) FROM {table_name}\")\n",
    "    data_from_sql = pd.read_sql_query(query, conn)\n",
    "\n",
    "print(data_from_sql)"
   ]
  }
 ],
 "metadata": {
  "kernelspec": {
   "display_name": "Python 3",
   "language": "python",
   "name": "python3"
  },
  "language_info": {
   "codemirror_mode": {
    "name": "ipython",
    "version": 3
   },
   "file_extension": ".py",
   "mimetype": "text/x-python",
   "name": "python",
   "nbconvert_exporter": "python",
   "pygments_lexer": "ipython3",
   "version": "3.11.3"
  },
  "orig_nbformat": 4
 },
 "nbformat": 4,
 "nbformat_minor": 2
}
