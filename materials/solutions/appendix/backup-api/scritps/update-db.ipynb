{
 "cells": [
  {
   "cell_type": "code",
   "execution_count": 1,
   "metadata": {},
   "outputs": [],
   "source": [
    "import os\n",
    "from urllib.parse import urlencode\n",
    "\n",
    "import ibis\n",
    "import pandas as pd\n"
   ]
  },
  {
   "attachments": {},
   "cell_type": "markdown",
   "metadata": {},
   "source": [
    "## Fetch data from https://data.cityofchicago.org"
   ]
  },
  {
   "attachments": {},
   "cell_type": "markdown",
   "metadata": {},
   "source": [
    "**Business license data**"
   ]
  },
  {
   "cell_type": "code",
   "execution_count": 2,
   "metadata": {},
   "outputs": [],
   "source": [
    "base_url = \"https://data.cityofchicago.org/resource/r5kz-chrr.csv\"\n",
    "params = {\"$order\": \"id\", \"$limit\": 5_000_000}\n",
    "url = f\"{base_url}?{urlencode(params)}\"\n",
    "business_license_data = pd.read_csv(url, dtype=str)"
   ]
  },
  {
   "attachments": {},
   "cell_type": "markdown",
   "metadata": {},
   "source": [
    "**Food inspection data**"
   ]
  },
  {
   "cell_type": "code",
   "execution_count": 3,
   "metadata": {},
   "outputs": [],
   "source": [
    "base_url = \"https://data.cityofchicago.org/resource/4ijn-s7e5.csv\"\n",
    "params = {\"$order\": \"inspection_date\", \"$limit\": 5_000_000}\n",
    "url = f\"{base_url}?{urlencode(params)}\"\n",
    "food_inspection_data = pd.read_csv(url, dtype=str)"
   ]
  },
  {
   "attachments": {},
   "cell_type": "markdown",
   "metadata": {},
   "source": [
    "## Save data to database"
   ]
  },
  {
   "cell_type": "code",
   "execution_count": 4,
   "metadata": {},
   "outputs": [],
   "source": [
    "con = ibis.postgres.connect(\n",
    "    user=\"rsw_db_admin\",\n",
    "    password=os.getenv(\"CONF23_DB_PASSWORD\"),\n",
    "    host=\"postgres-database-samedwardes-test7d1ba05.cpbvczwgws3n.us-east-2.rds.amazonaws.com\",\n",
    "    port=5432,\n",
    "    database=\"rsw\",\n",
    ")"
   ]
  },
  {
   "attachments": {},
   "cell_type": "markdown",
   "metadata": {},
   "source": [
    "**Business license data**"
   ]
  },
  {
   "cell_type": "code",
   "execution_count": 5,
   "metadata": {},
   "outputs": [],
   "source": [
    "business_license_table = con.create_table(\n",
    "    name=\"business_license_raw\", \n",
    "    obj=business_license_data.head(1_000),\n",
    "    overwrite=True\n",
    ")"
   ]
  },
  {
   "attachments": {},
   "cell_type": "markdown",
   "metadata": {},
   "source": [
    "**Food inspection data**"
   ]
  },
  {
   "cell_type": "code",
   "execution_count": 6,
   "metadata": {},
   "outputs": [],
   "source": [
    "food_inspection_table = con.create_table(\n",
    "    name=\"food_inspection_raw\", \n",
    "    obj=food_inspection_data.head(1_000),\n",
    "    overwrite=True\n",
    ")"
   ]
  }
 ],
 "metadata": {
  "kernelspec": {
   "display_name": "Python 3.10.11 ('.venv': venv)",
   "language": "python",
   "name": "python3"
  },
  "language_info": {
   "codemirror_mode": {
    "name": "ipython",
    "version": 3
   },
   "file_extension": ".py",
   "mimetype": "text/x-python",
   "name": "python",
   "nbconvert_exporter": "python",
   "pygments_lexer": "ipython3",
   "version": "3.10.11"
  },
  "orig_nbformat": 4,
  "vscode": {
   "interpreter": {
    "hash": "a0a34f6f64586a4c2c6d58bfe3eb12d4d2dac963b1117b611a7dc432081fb133"
   }
  }
 },
 "nbformat": 4,
 "nbformat_minor": 2
}
