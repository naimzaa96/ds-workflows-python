{
 "cells": [
  {
   "attachments": {},
   "cell_type": "markdown",
   "metadata": {},
   "source": [
    "# Data Validation"
   ]
  },
  {
   "attachments": {},
   "cell_type": "markdown",
   "metadata": {},
   "source": [
    "In the previous notebook, two pins were saved:\n",
    "\n",
    "- City of Chicago - Business License Data (RAW): `chicago-business-license-data`\n",
    "- ity of Chicago - Food Inspection Data (RAW): `chicago-food-inspection-data`"
   ]
  },
  {
   "attachments": {},
   "cell_type": "markdown",
   "metadata": {},
   "source": [
    "## Setup"
   ]
  },
  {
   "cell_type": "code",
   "execution_count": null,
   "metadata": {},
   "outputs": [],
   "source": [
    "import pandas as pd\n",
    "import pandera as pa\n",
    "import pins\n",
    "# from ydata_profiling import ProfileReport"
   ]
  },
  {
   "cell_type": "code",
   "execution_count": null,
   "metadata": {},
   "outputs": [],
   "source": [
    "pd.options.display.max_columns = 999"
   ]
  },
  {
   "cell_type": "code",
   "execution_count": null,
   "metadata": {},
   "outputs": [],
   "source": [
    "# Set up the board\n",
    "board = pins.board_connect()\n",
    "user_name = \"sam.edwardes\""
   ]
  },
  {
   "attachments": {},
   "cell_type": "markdown",
   "metadata": {},
   "source": [
    "## Data set (1): Business License Data\n",
    "\n",
    "<https://data.cityofchicago.org/Community-Economic-Development/Business-Licenses/r5kz-chrr>"
   ]
  },
  {
   "cell_type": "code",
   "execution_count": null,
   "metadata": {},
   "outputs": [],
   "source": [
    "pin_name = f\"{user_name}/chicago-business-license-data-raw\"\n",
    "business_license_raw = board.pin_read(pin_name)\n",
    "business_license_raw"
   ]
  },
  {
   "cell_type": "code",
   "execution_count": null,
   "metadata": {},
   "outputs": [],
   "source": [
    "# Apply some basic cleaning steps:\n",
    "business_license_tidy = (\n",
    "    business_license_raw\n",
    "    .loc[business_license_raw[\"state\"] == \"IL\"]\n",
    ")"
   ]
  },
  {
   "attachments": {},
   "cell_type": "markdown",
   "metadata": {},
   "source": [
    "**Tip:** Use multiple cursors in VS Code to easily edit many lines at the same time (<https://code.visualstudio.com/docs/getstarted/tips-and-tricks#_column-box-selection>)."
   ]
  },
  {
   "cell_type": "code",
   "execution_count": null,
   "metadata": {},
   "outputs": [],
   "source": [
    "business_license_schema = pa.DataFrameSchema({\n",
    "    \"id\": pa.Column(str, coerce=True),\n",
    "    \"license_id\": pa.Column(str, coerce=True, unique=True),\n",
    "    \"account_number\": pa.Column(str, coerce=True),\n",
    "    \"site_number\": pa.Column(str, coerce=True),\n",
    "    \"legal_name\": pa.Column(str, coerce=True),\n",
    "    \"doing_business_as_name\": pa.Column(str, coerce=True, nullable=True),\n",
    "    \"address\": pa.Column(str, coerce=True),\n",
    "    \"city\": pa.Column(str, coerce=True, nullable=True),\n",
    "    \"state\": pa.Column(str, coerce=True, nullable=True, checks=[\n",
    "        pa.Check.eq(\"IL\")\n",
    "    ]),\n",
    "    \"zip_code\": pa.Column(str, coerce=True, nullable=True, checks=[\n",
    "        pa.Check(lambda x: x.str.match(r'^\\d{5}$').all())\n",
    "    ]),\n",
    "    \"ward\": pa.Column(str, coerce=True, nullable=True),\n",
    "    \"precinct\": pa.Column(str, coerce=True, nullable=True),\n",
    "    \"ward_precinct\": pa.Column(str, coerce=True, nullable=True),\n",
    "    \"police_district\": pa.Column(pa.Category, coerce=True, nullable=True),\n",
    "    \"license_code\": pa.Column(pa.Category, coerce=True),\n",
    "    \"license_description\": pa.Column(str, coerce=True),\n",
    "    \"business_activity_id\": pa.Column(str, coerce=True, nullable=True),\n",
    "    \"business_activity\": pa.Column(pa.Category, coerce=True, nullable=True),\n",
    "    \"license_number\": pa.Column(str, coerce=True),\n",
    "    \"application_type\": pa.Column(pa.Category, coerce=True),\n",
    "    \"application_created_date\": pa.Column(str, coerce=True, nullable=True),\n",
    "    \"application_requirements_complete\": pa.Column(pa.DateTime, coerce=True),\n",
    "    \"payment_date\": pa.Column(pa.DateTime, coerce=True),\n",
    "    \"conditional_approval\": pa.Column(str, coerce=True),\n",
    "    \"license_start_date\": pa.Column(pa.DateTime, coerce=True),\n",
    "    \"expiration_date\": pa.Column(pa.DateTime, coerce=True),\n",
    "    \"license_approved_for_issuance\": pa.Column(str, coerce=True),\n",
    "    \"date_issued\": pa.Column(pa.DateTime, coerce=True),\n",
    "    \"license_status\": pa.Column(pa.Category, coerce=True),\n",
    "    \"license_status_change_date\": pa.Column(pa.DateTime, coerce=True, nullable=True),\n",
    "    \"ssa\": pa.Column(str, coerce=True, nullable=True),\n",
    "    \"latitude\": pa.Column(pa.Float, coerce=True, nullable=True, checks=[\n",
    "        pa.Check.between(38, 44)\n",
    "    ]),\n",
    "    \"longitude\": pa.Column(pa.Float, coerce=True, nullable=True, checks=[\n",
    "        pa.Check.between(-89, -84)\n",
    "    ]),\n",
    "    \"location\": pa.Column(str, coerce=True),\n",
    "})\n",
    "\n",
    "\n",
    "\n",
    "business_license_validated = business_license_schema.validate(business_license_tidy)\n",
    "\n",
    "# print(business_license_validated.info())\n",
    "# business_license_validated"
   ]
  },
  {
   "cell_type": "code",
   "execution_count": null,
   "metadata": {},
   "outputs": [],
   "source": [
    "(business_license_raw[\"id\"] == \"1000929-20021116\").value_counts()"
   ]
  },
  {
   "cell_type": "code",
   "execution_count": null,
   "metadata": {},
   "outputs": [],
   "source": [
    "business_license_raw[business_license_raw[\"id\"] == \"1000929-20021116\"]"
   ]
  },
  {
   "cell_type": "code",
   "execution_count": null,
   "metadata": {},
   "outputs": [],
   "source": [
    "# Pin the data to Connect\n",
    "pin_name = f\"{user_name}/chicago-business-license-data-validated\"\n",
    "board.pin_write(\n",
    "    business_license_validated, \n",
    "    name=pin_name, \n",
    "    type=\"csv\",\n",
    "    versioned=True,\n",
    "    title=\"City of Chicago - Business License Data (VALIDATED)\"\n",
    ")"
   ]
  },
  {
   "attachments": {},
   "cell_type": "markdown",
   "metadata": {},
   "source": [
    "## Data set (2): Food inspections\n",
    "\n",
    "<https://data.cityofchicago.org/Health-Human-Services/Food-Inspections/4ijn-s7e5>"
   ]
  },
  {
   "cell_type": "code",
   "execution_count": null,
   "metadata": {},
   "outputs": [],
   "source": [
    "pin_name = f\"{user_name}/chicago-food-inspection-data\"\n",
    "food_inspection_raw = board.pin_read(pin_name)\n",
    "food_inspection_raw"
   ]
  },
  {
   "cell_type": "code",
   "execution_count": null,
   "metadata": {},
   "outputs": [],
   "source": [
    "food_inspection_schema = pa.DataFrameSchema({\n",
    "    \"inspection_id\": pa.Column(str, coerce=True, unique=True),\n",
    "    \"dba_name\": pa.Column(str, coerce=True),\n",
    "    \"aka_name\": pa.Column(str, coerce=True, nullable=True),\n",
    "    \"license_\": pa.Column(str, coerce=True),\n",
    "    \"facility_type\": pa.Column(pa.Category, coerce=True, nullable=True),\n",
    "    \"risk\": pa.Column(str, coerce=True),\n",
    "    \"address\": pa.Column(str, coerce=True),\n",
    "    \"city\": pa.Column(str, coerce=True, checks=[\n",
    "        pa.Check.eq(\"CHICAGO\")\n",
    "    ]),\n",
    "    \"state\": pa.Column(str, coerce=True),\n",
    "    \"zip\": pa.Column(str, coerce=True),\n",
    "    \"inspection_date\": pa.Column(pa.DateTime, coerce=True),\n",
    "    \"inspection_type\": pa.Column(str, coerce=True),\n",
    "    \"results\": pa.Column(str, coerce=True),\n",
    "    \"violations\": pa.Column(str, coerce=True, nullable=True),\n",
    "    \"latitude\": pa.Column(pa.Float, coerce=True, nullable=True, checks=[\n",
    "        pa.Check.between(38, 44)\n",
    "    ]),\n",
    "    \"longitude\": pa.Column(pa.Float, coerce=True, nullable=True, checks=[\n",
    "        pa.Check.between(-89, -84)\n",
    "    ]),\n",
    "    \"location\": pa.Column(str, coerce=True, nullable=True),\n",
    "})\n",
    "\n",
    "food_inspection_validated = food_inspection_schema.validate(food_inspection_raw)\n",
    "print(food_inspection_validated.info())\n",
    "food_inspection_validated"
   ]
  },
  {
   "cell_type": "code",
   "execution_count": null,
   "metadata": {},
   "outputs": [],
   "source": [
    "# Pin the data to Connect\n",
    "pin_name = f\"{user_name}/chicago-food-inspection-data-validated\"\n",
    "board.pin_write(\n",
    "    food_inspection_validated, \n",
    "    name=pin_name, \n",
    "    type=\"csv\",\n",
    "    versioned=True,\n",
    "    title=\"City of Chicago - Food Inspection Data (VALIDATED)\"\n",
    ")"
   ]
  },
  {
   "attachments": {},
   "cell_type": "markdown",
   "metadata": {},
   "source": [
    "# Tmp"
   ]
  },
  {
   "cell_type": "code",
   "execution_count": null,
   "metadata": {},
   "outputs": [],
   "source": [
    "# profile = ProfileReport(business_license_raw, title=\"Profiling Report\")\n",
    "# profile"
   ]
  }
 ],
 "metadata": {
  "kernelspec": {
   "display_name": ".venv",
   "language": "python",
   "name": "python3"
  },
  "language_info": {
   "codemirror_mode": {
    "name": "ipython",
    "version": 3
   },
   "file_extension": ".py",
   "mimetype": "text/x-python",
   "name": "python",
   "nbconvert_exporter": "python",
   "pygments_lexer": "ipython3",
   "version": "3.11.1"
  },
  "orig_nbformat": 4
 },
 "nbformat": 4,
 "nbformat_minor": 2
}
