{
 "cells": [
  {
   "cell_type": "markdown",
   "metadata": {},
   "source": [
    "# Python Package\n",
    "\n",
    "In this activity, we will build an \"in-house\" Python package and publish to to Package Manager."
   ]
  },
  {
   "cell_type": "markdown",
   "metadata": {},
   "source": [
    "### Task 1 - Create a Python Package"
   ]
  },
  {
   "cell_type": "markdown",
   "metadata": {},
   "source": [
    "#### 🔄 Task"
   ]
  },
  {
   "cell_type": "markdown",
   "metadata": {},
   "source": [
    "Creating Python packages is a fun (and complicated) activity that deserves its own workshop. To save time, we will use a custom package that we have already written the code for. If you are interested in learning more about Python package development I would recommend starting here: <https://py-pkgs.org>.\n",
    "\n",
    "To get started, copy our example Python package to the `materials/your-work/activity-5` directory.\n",
    "\n",
    "```bash\n",
    "mkdir materials/your-work/activity-5/chidata\n",
    "cp -R materials/solutions/05-python-app materials/your-work/activity-5/chidata\n",
    "```\n",
    "\n",
    "Next, reopen VS Code in the `materials/your-work/activity-5/chidata` directory.\n",
    "\n",
    "![Open VS Code](./imgs/open-chidata-in-vs-code.png)"
   ]
  },
  {
   "cell_type": "markdown",
   "metadata": {},
   "source": [
    "#### ✅ Solution"
   ]
  },
  {
   "cell_type": "markdown",
   "metadata": {},
   "source": [
    "### Task 2 - Publish to Package Manager"
   ]
  },
  {
   "cell_type": "markdown",
   "metadata": {},
   "source": [
    "#### 🔄 Task"
   ]
  },
  {
   "cell_type": "markdown",
   "metadata": {},
   "source": [
    "#### ✅ Solution"
   ]
  },
  {
   "cell_type": "markdown",
   "metadata": {},
   "source": [
    "### Task 3 - Use Package in A Notebook"
   ]
  },
  {
   "cell_type": "markdown",
   "metadata": {},
   "source": [
    "#### 🔄 Task"
   ]
  },
  {
   "cell_type": "markdown",
   "metadata": {},
   "source": [
    "#### ✅ Solution"
   ]
  }
 ],
 "metadata": {
  "language_info": {
   "name": "python"
  },
  "orig_nbformat": 4
 },
 "nbformat": 4,
 "nbformat_minor": 2
}
