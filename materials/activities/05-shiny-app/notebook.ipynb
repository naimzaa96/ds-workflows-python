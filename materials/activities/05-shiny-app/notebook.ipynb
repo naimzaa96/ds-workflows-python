{
 "cells": [
  {
   "cell_type": "markdown",
   "metadata": {},
   "source": [
    "# Shiny App\n",
    "\n",
    "In this exercise we will build a Shiny app to allow non-technical users to use our model."
   ]
  },
  {
   "attachments": {},
   "cell_type": "markdown",
   "metadata": {},
   "source": [
    "### Task 1 - Run a Shiny App"
   ]
  },
  {
   "cell_type": "markdown",
   "metadata": {},
   "source": [
    "#### 🔄 Task"
   ]
  },
  {
   "attachments": {},
   "cell_type": "markdown",
   "metadata": {},
   "source": [
    "We haved provided you with the skeleton of a Shiny for Python app. Do the following:\n",
    "\n",
    "- Create a virtual environment and install the requirements.\n",
    "- Use the terminal to start the shiny app.\n",
    "- Preview the Shiny app in your browser."
   ]
  },
  {
   "cell_type": "markdown",
   "metadata": {},
   "source": [
    "#### ✅ Solution"
   ]
  },
  {
   "attachments": {},
   "cell_type": "markdown",
   "metadata": {},
   "source": [
    "Create a virtual environment:\n",
    "\n",
    "```bash\n",
    "python -m venv .venv\n",
    "source .venv/bin/activate \n",
    "python -m pip install --upgrade pip wheel setuptools\n",
    "python -m pip install -r requirements.txt\n",
    "```\n",
    "\n",
    "Run the shiny app:\n",
    "\n",
    "```bash\n",
    "shiny run --reload app.py:app\n",
    "```\n",
    "\n",
    "Then use the Posit Workbench VS Code extension to preview the app in your browser."
   ]
  },
  {
   "attachments": {},
   "cell_type": "markdown",
   "metadata": {},
   "source": [
    "### Task 2 - Update the Shiny App to use the Vetiver API"
   ]
  },
  {
   "cell_type": "markdown",
   "metadata": {},
   "source": [
    "#### 🔄 Task"
   ]
  },
  {
   "attachments": {},
   "cell_type": "markdown",
   "metadata": {},
   "source": [
    "- Review the code in `app.py`.\n",
    "- Search for the word \"TODO\".\n",
    "- For each \"TODO\", make the required code updates."
   ]
  },
  {
   "cell_type": "markdown",
   "metadata": {},
   "source": [
    "#### ✅ Solution"
   ]
  },
  {
   "attachments": {},
   "cell_type": "markdown",
   "metadata": {},
   "source": [
    "See the code in `materials/solutions/05-shiny-app` for a complete solution."
   ]
  },
  {
   "cell_type": "markdown",
   "metadata": {},
   "source": [
    "### Task 3 - Deploy the Food Inspectors App"
   ]
  },
  {
   "cell_type": "markdown",
   "metadata": {},
   "source": [
    "#### 🔄 Task"
   ]
  },
  {
   "attachments": {},
   "cell_type": "markdown",
   "metadata": {},
   "source": [
    "Deploy the Shiny app to Connect!\n",
    "\n",
    "**Tips**\n",
    "\n",
    "- Remember to set the environment variables when deploying to Connect"
   ]
  },
  {
   "cell_type": "markdown",
   "metadata": {},
   "source": [
    "#### ✅ Solution"
   ]
  },
  {
   "attachments": {},
   "cell_type": "markdown",
   "metadata": {},
   "source": [
    "```bash\n",
    "# Check the required environment variables are set\n",
    "echo $CONF23_DB_PASSWORD\n",
    "echo $CONF23_DB_HOST\n",
    "\n",
    "# Deploy the app to Connect\n",
    "rsconnect deploy shiny . \\\n",
    "        --title \"05 - Chicago Food Inspections - Inspection App\" \\\n",
    "        --environment \"CONF23_DB_PASSWORD=$CONF23_DB_PASSWORD\" \\\n",
    "        --environment \"CONF23_DB_HOST=$CONF23_DB_HOST\" \\\n",
    "        --entrypoint app.py:app\n",
    "```"
   ]
  }
 ],
 "metadata": {
  "kernelspec": {
   "display_name": "Python 3",
   "language": "python",
   "name": "python3"
  },
  "language_info": {
   "codemirror_mode": {
    "name": "ipython",
    "version": 3
   },
   "file_extension": ".py",
   "mimetype": "text/x-python",
   "name": "python",
   "nbconvert_exporter": "python",
   "pygments_lexer": "ipython3",
   "version": "3.11.1"
  },
  "orig_nbformat": 4
 },
 "nbformat": 4,
 "nbformat_minor": 2
}
