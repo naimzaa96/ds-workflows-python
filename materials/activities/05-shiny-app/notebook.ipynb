{
 "cells": [
  {
   "cell_type": "markdown",
   "metadata": {},
   "source": [
    "# Shiny App\n",
    "\n",
    "In this exercise we will build a Shiny app to allow non-technical users to use our model."
   ]
  },
  {
   "cell_type": "markdown",
   "metadata": {},
   "source": [
    "### Task 1 - Hello World Shiny"
   ]
  },
  {
   "cell_type": "markdown",
   "metadata": {},
   "source": [
    "#### 🔄 Task"
   ]
  },
  {
   "cell_type": "markdown",
   "metadata": {},
   "source": [
    "Create a simple shiny app that filters a data table based on user input. Use this as your starter code:\n",
    "\n",
    "```python\n",
    "from shiny import ui, render, App\n",
    "import pandas as pd\n",
    "\n",
    "app_ui = ui.page_fluid(\n",
    "    ui.layout_sidebar(\n",
    "        ui.panel_sidebar(\n",
    "            ui.tags.h5(\"Filters\"),\n",
    "            # TODO: add dropdown filter to filter based on colour\n",
    "        ),\n",
    "        ui.panel_main(\n",
    "            ui.tags.h5(\"Raw Data\"),\n",
    "            ui.output_data_frame(\"raw_data\"),\n",
    "            ui.tags.h5(\"Filtered Data\")\n",
    "            # TODO: Display the filtered data in a table,\n",
    "\n",
    "        )\n",
    "    )\n",
    ")\n",
    "\n",
    "def server(input, output, session):\n",
    "\n",
    "    data = pd.DataFrame({\n",
    "        \"color\": [\"red\", \"blue\", \"red\", \"green\", \"yellow\", \"green\"],\n",
    "        \"x\": [1, 4, 10, 99, 3, 26]\n",
    "    })\n",
    "\n",
    "    @output\n",
    "    @render.data_frame\n",
    "    def raw_data():\n",
    "        return data\n",
    "\n",
    "    # TODO: write a function that filters and renders the filtered data.\n",
    "    \n",
    "\n",
    "app = App(app_ui, server)\n",
    "```"
   ]
  },
  {
   "cell_type": "markdown",
   "metadata": {},
   "source": [
    "#### ✅ Solution"
   ]
  },
  {
   "cell_type": "markdown",
   "metadata": {},
   "source": [
    "Below is an example of how you could achieve the desired behavior:\n",
    "\n",
    "```python\n",
    "from shiny import ui, render, App\n",
    "import pandas as pd\n",
    "\n",
    "app_ui = ui.page_fluid(\n",
    "    ui.layout_sidebar(\n",
    "        ui.panel_sidebar(\n",
    "            ui.tags.h5(\"Filters\"),\n",
    "            ui.input_select(\n",
    "                \"selected_color\", \n",
    "                label=\"Color\",\n",
    "                choices=[\"red\", \"blue\", \"green\", \"yellow\"]\n",
    "            )\n",
    "        ),\n",
    "        ui.panel_main(\n",
    "            ui.tags.h5(\"Raw Data\"),\n",
    "            ui.output_data_frame(\"raw_data\"),\n",
    "            ui.tags.h5(\"Filtered Data\"),\n",
    "            ui.output_data_frame(\"filtered_data\")\n",
    "\n",
    "        )\n",
    "    )\n",
    ")\n",
    "\n",
    "def server(input, output, session):\n",
    "\n",
    "    data = pd.DataFrame({\n",
    "        \"color\": [\"red\", \"blue\", \"red\", \"green\", \"yellow\", \"green\"],\n",
    "        \"x\": [1, 4, 10, 99, 3, 26]\n",
    "    })\n",
    "\n",
    "    @output\n",
    "    @render.data_frame\n",
    "    def raw_data():\n",
    "        return data\n",
    "\n",
    "    @output\n",
    "    @render.data_frame\n",
    "    def filtered_data():\n",
    "        return data.loc[data[\"color\"] == input.selected_color(), :]\n",
    "    \n",
    "\n",
    "app = App(app_ui, server)\n",
    "```"
   ]
  },
  {
   "cell_type": "markdown",
   "metadata": {},
   "source": [
    "### Task 2 - Call the Model API from Python"
   ]
  },
  {
   "cell_type": "markdown",
   "metadata": {},
   "source": [
    "#### 🔄 Task"
   ]
  },
  {
   "cell_type": "markdown",
   "metadata": {},
   "source": [
    "Earlier in the workshop we deployed a model to Connect using Vetiver. Vetiver + Connect make it easy to use this API in your Python code. Write a Python script that:\n",
    "\n",
    "- Loads 5 rows of data from SQL.\n",
    "- Calls the API to make a prediction on those first 5 rows."
   ]
  },
  {
   "cell_type": "markdown",
   "metadata": {},
   "source": [
    "#### ✅ Solution"
   ]
  },
  {
   "cell_type": "code",
   "execution_count": 1,
   "metadata": {},
   "outputs": [],
   "source": [
    "# TODO: Sam to write this script, dependent on Gagan developing the API."
   ]
  },
  {
   "cell_type": "markdown",
   "metadata": {},
   "source": [
    "### Task 3 - Deploy the Food Inspectors App"
   ]
  },
  {
   "cell_type": "markdown",
   "metadata": {},
   "source": [
    "#### 🔄 Task"
   ]
  },
  {
   "cell_type": "markdown",
   "metadata": {},
   "source": [
    "We don't have time in this workshop to develop a complex Shiny app. So we have provided one for you! Copy the contents from [materials/solutions/04-app](../solutions/04-app/) directory for a complete example. To the your-work directory:\n",
    "\n",
    "```bash\n",
    "cp -r materials/solutions/04-app materials/your-work/activity-4/task-2-inspectors-app\n",
    "```\n",
    "\n",
    "Then perform the following tasks:\n",
    "\n",
    "- Create a virtual environment\n",
    "- Run the app locally, review and play around with the code\n",
    "- Deploy the App to Connect\n",
    "\n",
    "**Tips**\n",
    "\n",
    "- Remember to set the correct environment variables when running on Workbench\n",
    "- Remember to set the environment variables when deploying to Connect"
   ]
  },
  {
   "cell_type": "markdown",
   "metadata": {},
   "source": [
    "#### ✅ Solution"
   ]
  },
  {
   "cell_type": "markdown",
   "metadata": {},
   "source": [
    "```bash\n",
    "# Copy the starter files\n",
    "cp -r materials/solutions/04-app materials/your-work/activity-4/task-2-inspectors-app\n",
    "cd materials/your-work/activity-4/task-2-inspectors-app\n",
    "\n",
    "# Create a new virtual environment\n",
    "python -m venv .venv\n",
    "source .venv/bin/activate\n",
    "python -m pip install --upgrade pip wheel setuptools\n",
    "\n",
    "# Install the requirements\n",
    "python -m pip install -r requirements.txt\n",
    "\n",
    "# Check the required environment variables are set\n",
    "echo $CONF23_DB_PASSWORD\n",
    "echo $CONF23_DB_HOST\n",
    "\n",
    "# Deploy the app to Connect\n",
    "rsconnect deploy shiny . \\\n",
    "        --title \"City of Chicago Food Inspection App\" \\\n",
    "        --environment \"CONF23_DB_PASSWORD=$CONF23_DB_PASSWORD\" \\\n",
    "        --environment \"CONF23_DB_HOST=$CONF23_DB_HOST\" \\\n",
    "        --entrypoint src.app:app\n",
    "```"
   ]
  },
  {
   "cell_type": "markdown",
   "metadata": {},
   "source": []
  }
 ],
 "metadata": {
  "kernelspec": {
   "display_name": "Python 3",
   "language": "python",
   "name": "python3"
  },
  "language_info": {
   "codemirror_mode": {
    "name": "ipython",
    "version": 3
   },
   "file_extension": ".py",
   "mimetype": "text/x-python",
   "name": "python",
   "nbconvert_exporter": "python",
   "pygments_lexer": "ipython3",
   "version": "3.11.1"
  },
  "orig_nbformat": 4
 },
 "nbformat": 4,
 "nbformat_minor": 2
}
