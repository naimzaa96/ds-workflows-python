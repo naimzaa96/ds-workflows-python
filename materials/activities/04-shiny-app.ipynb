{
 "cells": [
  {
   "cell_type": "markdown",
   "metadata": {},
   "source": [
    "# Shiny App\n",
    "\n",
    "In this exercise we will build a Shiny app to allow non-technical users to use our model."
   ]
  },
  {
   "cell_type": "markdown",
   "metadata": {},
   "source": [
    "### Activity 1 - Hello World Shiny"
   ]
  },
  {
   "cell_type": "markdown",
   "metadata": {},
   "source": [
    "#### 🔄 Task"
   ]
  },
  {
   "cell_type": "markdown",
   "metadata": {},
   "source": [
    "Create a simple shiny app that filters a data table based on user input. Use this as your starter code:\n",
    "\n",
    "```python\n",
    "from shiny import ui, render, App\n",
    "import pandas as pd\n",
    "\n",
    "app_ui = ui.page_fluid(\n",
    "    ui.layout_sidebar(\n",
    "        ui.panel_sidebar(\n",
    "            ui.tags.h5(\"Filters\"),\n",
    "            # TODO: add dropdown filter to filter based on colour\n",
    "        ),\n",
    "        ui.panel_main(\n",
    "            ui.tags.h5(\"Raw Data\"),\n",
    "            ui.output_data_frame(\"raw_data\"),\n",
    "            ui.tags.h5(\"Filtered Data\")\n",
    "            # TODO: Display the filtered data in a table,\n",
    "\n",
    "        )\n",
    "    )\n",
    ")\n",
    "\n",
    "def server(input, output, session):\n",
    "\n",
    "    data = pd.DataFrame({\n",
    "        \"color\": [\"red\", \"blue\", \"red\", \"green\", \"yellow\", \"green\"],\n",
    "        \"x\": [1, 4, 10, 99, 3, 26]\n",
    "    })\n",
    "\n",
    "    @output\n",
    "    @render.data_frame\n",
    "    def raw_data():\n",
    "        return data\n",
    "\n",
    "    # TODO: write a function that filters and renders the filtered data.\n",
    "    \n",
    "\n",
    "app = App(app_ui, server)\n",
    "```"
   ]
  },
  {
   "cell_type": "markdown",
   "metadata": {},
   "source": [
    "#### ✅ Solution"
   ]
  },
  {
   "cell_type": "markdown",
   "metadata": {},
   "source": [
    "Below is an example of how you could achieve the desired behavior:\n",
    "\n",
    "```python\n",
    "from shiny import ui, render, App\n",
    "import pandas as pd\n",
    "\n",
    "app_ui = ui.page_fluid(\n",
    "    ui.layout_sidebar(\n",
    "        ui.panel_sidebar(\n",
    "            ui.tags.h5(\"Filters\"),\n",
    "            ui.input_select(\n",
    "                \"selected_color\", \n",
    "                label=\"Color\",\n",
    "                choices=[\"red\", \"blue\", \"green\", \"yellow\"]\n",
    "            )\n",
    "        ),\n",
    "        ui.panel_main(\n",
    "            ui.tags.h5(\"Raw Data\"),\n",
    "            ui.output_data_frame(\"raw_data\"),\n",
    "            ui.tags.h5(\"Filtered Data\"),\n",
    "            ui.output_data_frame(\"filtered_data\")\n",
    "\n",
    "        )\n",
    "    )\n",
    ")\n",
    "\n",
    "def server(input, output, session):\n",
    "\n",
    "    data = pd.DataFrame({\n",
    "        \"color\": [\"red\", \"blue\", \"red\", \"green\", \"yellow\", \"green\"],\n",
    "        \"x\": [1, 4, 10, 99, 3, 26]\n",
    "    })\n",
    "\n",
    "    @output\n",
    "    @render.data_frame\n",
    "    def raw_data():\n",
    "        return data\n",
    "\n",
    "    @output\n",
    "    @render.data_frame\n",
    "    def filtered_data():\n",
    "        return data.loc[data[\"color\"] == input.selected_color(), :]\n",
    "    \n",
    "\n",
    "app = App(app_ui, server)\n",
    "```"
   ]
  },
  {
   "cell_type": "markdown",
   "metadata": {},
   "source": [
    "### Activity 2 - Shiny App for Food Inspectors"
   ]
  },
  {
   "cell_type": "markdown",
   "metadata": {},
   "source": [
    "#### 🔄 Task"
   ]
  },
  {
   "cell_type": "markdown",
   "metadata": {},
   "source": [
    "Build a Shiny app for City of Chicago Food Inspectors to help them identify establishments that are most at risk of a violation:\n",
    "\n",
    "- The app should take user input to filter subset of businesses.\n",
    "- For the selected businesses, call the model API to get a prediction.\n",
    "- Display the results in a table.\n",
    "- **BONUS**: Plot the locations on a map.\n",
    "\n",
    " Below is a wire frame that describes the basic functionality of the app. Feel free to use this is a starting point, or build your own custom design and layout!\n",
    "\n",
    "![Wire frame](imgs/shiny-app-wire-frame.drawio.png)"
   ]
  },
  {
   "cell_type": "markdown",
   "metadata": {},
   "source": [
    "#### ✅ Solution"
   ]
  },
  {
   "cell_type": "markdown",
   "metadata": {},
   "source": [
    "See the [materials/solutions/04-app](../solutions/04-app/) directory for a complete example."
   ]
  },
  {
   "cell_type": "markdown",
   "metadata": {},
   "source": []
  }
 ],
 "metadata": {
  "kernelspec": {
   "display_name": "Python 3",
   "language": "python",
   "name": "python3"
  },
  "language_info": {
   "name": "python",
   "version": "3.11.1"
  },
  "orig_nbformat": 4
 },
 "nbformat": 4,
 "nbformat_minor": 2
}
