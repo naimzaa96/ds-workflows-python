{
 "cells": [
  {
   "attachments": {},
   "cell_type": "markdown",
   "metadata": {},
   "source": [
    "# Model building and Deployment\n",
    "\n",
    "In this exercise we will build a machine learning model, introduce the vetiver package for machine learning operations, and learn how to use the package to deploy models to Posit Connect."
   ]
  },
  {
   "attachments": {},
   "cell_type": "markdown",
   "metadata": {},
   "source": [
    "### Task 1 - Exploratory Data Analysis"
   ]
  },
  {
   "attachments": {},
   "cell_type": "markdown",
   "metadata": {},
   "source": [
    "#### 🔄 Task"
   ]
  },
  {
   "attachments": {},
   "cell_type": "markdown",
   "metadata": {},
   "source": [
    "Before we build a machine learning model to predict if an inspection would be successful or not, we need to understand the data.\n",
    "Use this time to see what features we have available and how they can be used for our model.\n"
   ]
  },
  {
   "attachments": {},
   "cell_type": "markdown",
   "metadata": {},
   "source": [
    "#### ✅ Solution"
   ]
  },
  {
   "attachments": {},
   "cell_type": "markdown",
   "metadata": {},
   "source": [
    "Load the food inspection data(validated) from the database and look at different columns and their values."
   ]
  },
  {
   "cell_type": "code",
   "execution_count": 1,
   "metadata": {},
   "outputs": [],
   "source": [
    "# Use the ibis package from previus exercise to perform this operation"
   ]
  },
  {
   "cell_type": "markdown",
   "metadata": {},
   "source": [
    "There are different functions available in pandas dataframe to do this, like *columns*, *groupby*, *count*, and *unique*"
   ]
  },
  {
   "cell_type": "code",
   "execution_count": null,
   "metadata": {},
   "outputs": [],
   "source": [
    "# (Uncomment to run some analysis)\n",
    "#\n",
    "# inspection_data.columns\n",
    "# inspection_data.dtypes\n",
    "# inspection_data.groupby(\"facility_type\").count()[\"inspection_id\"].sort_values(ascending=False)\n",
    "# inspection_data.groupby(\"results\").count()[\"inspection_id\"]\n",
    "# inspection_data['results'].unique()\n",
    "# inspection_data.groupby(\"risk\").count()[\"inspection_id\"]\n",
    "# inspection_data['violations']"
   ]
  },
  {
   "cell_type": "markdown",
   "metadata": {},
   "source": [
    "**For Bonus Points**"
   ]
  },
  {
   "cell_type": "markdown",
   "metadata": {},
   "source": [
    "If you want, you can also use *matplotlib* to plot relationships between different features!"
   ]
  },
  {
   "attachments": {},
   "cell_type": "markdown",
   "metadata": {},
   "source": [
    "### Task 2 - Feature Engineering"
   ]
  },
  {
   "cell_type": "markdown",
   "metadata": {},
   "source": [
    "#### 🔄 Task"
   ]
  },
  {
   "cell_type": "markdown",
   "metadata": {},
   "source": [
    "Now that we have some understanding of our columns, lets look into building features for our model\n",
    "- which columns can we use as features?\n",
    "- do all the column values make sense? eg. look at *category* column values\n",
    "- are these columns in the right format?\n",
    "- what kind of encoding can we do define categorical columns?\n",
    "- Do we need to build a new feature to correctly capture the data?"
   ]
  },
  {
   "attachments": {},
   "cell_type": "markdown",
   "metadata": {},
   "source": [
    "#### ✅ Solution"
   ]
  },
  {
   "cell_type": "markdown",
   "metadata": {},
   "source": [
    "For this execise, we will use the following model features\n",
    "- facility type, encoded as \"BAKERY\", \"RESTUARANT\" and \"GROCERY STORE\"\n",
    "- Risk encoded as HIGH, MEDIUM and LOW\n",
    "- Cumulative violations, as the number of violations till that inspection date"
   ]
  },
  {
   "cell_type": "markdown",
   "metadata": {},
   "source": [
    "**Note**: this is just a premilniary list, you can always add or remove features"
   ]
  },
  {
   "cell_type": "code",
   "execution_count": null,
   "metadata": {},
   "outputs": [],
   "source": [
    "# clean up input data for modelling\n",
    "\n",
    "inspection_data_for_training = (\n",
    "    inspection_data\n",
    "    # remove NA licenses\n",
    "    .loc[inspection_data[\"license_\"] != 0]\n",
    "    # select only Restaurant, Bakery, Grocery Store\n",
    "    .loc[\n",
    "        inspection_data[\"facility_type\"].isin([\"RESTAURANT\", \"BAKERY\", \"GROCERY STORE\"])\n",
    "    ]\n",
    "    .pipe(\n",
    "        lambda inspection_data: pd.get_dummies(\n",
    "            inspection_data, columns=[\"facility_type\"], prefix=[\"\"], dtype=int\n",
    "        )\n",
    "    )\n",
    "    .rename(\n",
    "        columns={\n",
    "            \"_BAKERY\": \"BAKERY\",\n",
    "            \"_RESTAURANT\": \"RESTAURANT\",\n",
    "            \"_GROCERY STORE\": \"GROCERY_STORE\",\n",
    "        }\n",
    "    )\n",
    "    # filter out relavant inspection results\n",
    "    .loc[inspection_data[\"results\"].isin([\"FAIL\", \"PASS\", \"PASS W/ CONDITIONS\"])]\n",
    "    # make Pass with Conditions results as Fail, since they are not completely pass\n",
    "    .assign(results=(lambda x: x[\"results\"].replace([\"PASS W/ CONDITIONS\"], \"FAIL\")))\n",
    "    .assign(RESULTS=(lambda x: x[\"results\"].map({\"PASS\": 1, \"FAIL\": 0}).astype(int)))\n",
    "    .drop(columns=[\"results\"])\n",
    "    # filter out valid risk entries\n",
    "    .loc[\n",
    "        inspection_data[\"risk\"].isin(\n",
    "            [\"RISK 1 (HIGH)\", \"RISK 2 (MEDIUM)\", \"RISK 3 (LOW)\"]\n",
    "        )\n",
    "    ]\n",
    "    # create dummy variables for risk\n",
    "    .pipe(\n",
    "        lambda inspection_data: pd.get_dummies(\n",
    "            inspection_data, columns=[\"risk\"], prefix=[\"\"], dtype=int\n",
    "        )\n",
    "    )\n",
    "    .rename(\n",
    "        columns={\n",
    "            \"_RISK 1 (HIGH)\": \"HIGH_RISK\",\n",
    "            \"_RISK 2 (MEDIUM)\": \"MEDIUM_RISK\",\n",
    "            \"_RISK 3 (LOW)\": \"LOW_RISK\",\n",
    "        }\n",
    "    )\n",
    "    # sort results by business and inspection date\n",
    "    .sort_values(by=[\"license_\", \"inspection_date\"])\n",
    ")"
   ]
  },
  {
   "cell_type": "code",
   "execution_count": null,
   "metadata": {},
   "outputs": [],
   "source": [
    "# count violations for each inspection\n",
    "inspection_data_for_training[\"count_violations\"] = (\n",
    "    inspection_data_for_training[\"violations\"]\n",
    "    .apply(lambda x: len(x[1:-1].split('\",\"')) if x is not None else None)\n",
    "    .fillna(0)\n",
    ")\n",
    "# count cumilative violations for each date for a license\n",
    "inspection_data_for_training[\"CUM_VIOLATIONS\"] = inspection_data_for_training.groupby(\n",
    "    [\"license_\"]\n",
    ")[\"count_violations\"].cumsum()"
   ]
  },
  {
   "attachments": {},
   "cell_type": "markdown",
   "metadata": {},
   "source": [
    "### Task 3 - Building \"a\" classification model"
   ]
  },
  {
   "cell_type": "markdown",
   "metadata": {},
   "source": [
    "Now we will use these features to build a classification model."
   ]
  },
  {
   "cell_type": "markdown",
   "metadata": {},
   "source": [
    "#### 🔄 Task"
   ]
  },
  {
   "cell_type": "markdown",
   "metadata": {},
   "source": [
    "Since we can utilize our data science skills here, feel free to build a model that works for you. The purpose of this exercise is to build a simple functioning model that we can work with later.(there is no one solution here) "
   ]
  },
  {
   "attachments": {},
   "cell_type": "markdown",
   "metadata": {},
   "source": [
    "#### ✅ Solution"
   ]
  },
  {
   "cell_type": "markdown",
   "metadata": {},
   "source": [
    "One example of a classification model is a random forest model, as built below:"
   ]
  },
  {
   "cell_type": "code",
   "execution_count": null,
   "metadata": {},
   "outputs": [],
   "source": [
    "# Create training and test split\n",
    "X = inspection_data_for_training.drop(\n",
    "    columns=[\n",
    "        \"license_\",\n",
    "        \"RESULTS\",\n",
    "        \"inspection_id\",\n",
    "        \"dba_name\",\n",
    "        \"aka_name\",\n",
    "        \"inspection_type\",\n",
    "        \"violations\",\n",
    "        \"count_violations\",\n",
    "        \"inspection_date\",\n",
    "        \"zip\",\n",
    "    ]\n",
    ")\n",
    "y = inspection_data_for_training[[\"RESULTS\"]]\n",
    "\n",
    "X_train, X_test, y_train, y_test = train_test_split(X, y)"
   ]
  },
  {
   "cell_type": "code",
   "execution_count": null,
   "metadata": {},
   "outputs": [],
   "source": [
    "# Train a random forest model\n",
    "clf = RandomForestClassifier(max_depth=10, random_state=0)\n",
    "clf.fit(X_train, np.ravel(y_train))"
   ]
  },
  {
   "cell_type": "code",
   "execution_count": null,
   "metadata": {},
   "outputs": [],
   "source": [
    "# test predictions\n",
    "y_pred = clf.predict(X_test)\n",
    "mse = metrics.mean_squared_error(y_test, y_pred)\n",
    "\n",
    "print(np.sqrt(mse))"
   ]
  },
  {
   "attachments": {},
   "cell_type": "markdown",
   "metadata": {},
   "source": [
    "### Task 4 - Vetiver model deployment"
   ]
  },
  {
   "cell_type": "markdown",
   "metadata": {},
   "source": [
    "Now that we have a functioning model, we will use the *vetiver* framework to deploy it to Posit Connect"
   ]
  },
  {
   "cell_type": "markdown",
   "metadata": {},
   "source": [
    "#### 🔄 Task"
   ]
  },
  {
   "cell_type": "markdown",
   "metadata": {},
   "source": [
    "In this task:\n",
    "- Install the *vetiver* and *pins* package in your virtual environment\n",
    "- Convert your model to a Vetiver model\n",
    "- Add a model board for workshop Posit Connect instance\n",
    "- Use *vetiver*'s vetiver_pin_write function to deploy the model as a pin on to Connect\n",
    "- Use *vetiver*'s deploy_rsconnect function to deploy the model as an API on to Connect\n",
    "- Test out the API using the *vetiver.predict* function"
   ]
  },
  {
   "attachments": {},
   "cell_type": "markdown",
   "metadata": {},
   "source": [
    "#### ✅ Solution"
   ]
  },
  {
   "cell_type": "markdown",
   "metadata": {},
   "source": [
    "\n",
    "```bash\n",
    "python -m pip install vetiver pins\n",
    "```"
   ]
  },
  {
   "cell_type": "code",
   "execution_count": null,
   "metadata": {},
   "outputs": [],
   "source": [
    "# Create a vetiver model object\n",
    "v = vetiver.VetiverModel(\n",
    "    model=clf, model_name=\"gagan/inspection_results\", prototype_data=X_train[:1]\n",
    ")\n",
    "v\n",
    "\n",
    "# Write the vetiver model as a pin for versioning\n",
    "model_board = pins.board_connect(\n",
    "    os.getenv(\"CONNECT_SERVER\"),\n",
    "    api_key=os.getenv(\"CONNECT_API_KEY\"),\n",
    "    allow_pickle_read=True\n",
    ")\n",
    "vetiver.vetiver_pin_write(model_board, model=v)\n",
    "\n",
    "# Deploy the vetiver model as an API on Posit Connect\n",
    "rsc_server = os.getenv(\"CONNECT_SERVER\")\n",
    "rsc_key = os.getenv(\"CONNECT_API_KEY\")\n",
    "connect_server = rsconnect.api.RSConnectServer(url=rsc_server, api_key=rsc_key)\n",
    "\n",
    "\n",
    "vetiver.deploy_rsconnect(\n",
    "    connect_server=connect_server,\n",
    "    board=model_board,\n",
    "    pin_name=\"gagan/inspection_results\",\n",
    ")"
   ]
  },
  {
   "attachments": {},
   "cell_type": "markdown",
   "metadata": {},
   "source": [
    "### Task 5 - Explore API performance tuning on Posit Connect"
   ]
  },
  {
   "cell_type": "markdown",
   "metadata": {},
   "source": [
    "#### 🔄 Task"
   ]
  },
  {
   "cell_type": "markdown",
   "metadata": {},
   "source": [
    "Now that our model has been deployed as an API on Connect and we can make predictions from it, explore what options we have on Connect to make this API available to other consumers. Some questions to consider:\n",
    "- How do we make sure our API is always available?\n",
    "- How many external processes would be using the API?\n",
    "- Who and what process would have access to it?"
   ]
  },
  {
   "cell_type": "markdown",
   "metadata": {},
   "source": [
    "More details on what settings can be tuned are available [here](https://docs.posit.co/connect/user/content-settings/#content-runtime)"
   ]
  },
  {
   "attachments": {},
   "cell_type": "markdown",
   "metadata": {},
   "source": [
    "### Task 6 - Schedule model run for regular deployments"
   ]
  },
  {
   "cell_type": "markdown",
   "metadata": {},
   "source": [
    "Now that we have built and deployed the model, we can deploy the code that generates the model also on Connect to refresh the model performance "
   ]
  },
  {
   "cell_type": "markdown",
   "metadata": {},
   "source": [
    "#### 🔄 Task"
   ]
  },
  {
   "cell_type": "markdown",
   "metadata": {},
   "source": [
    "Use the *rsconnect-python* deployment functionality learned in the previous exercise to deploy your notebook"
   ]
  },
  {
   "cell_type": "markdown",
   "metadata": {},
   "source": [
    "After deployment, explore the scheduling options available on Connect. More details can be found [here](https://docs.posit.co/connect/user/scheduling/)"
   ]
  }
 ],
 "metadata": {
  "kernelspec": {
   "display_name": ".venv",
   "language": "python",
   "name": "python3"
  },
  "language_info": {
   "codemirror_mode": {
    "name": "ipython",
    "version": 3
   },
   "file_extension": ".py",
   "mimetype": "text/x-python",
   "name": "python",
   "nbconvert_exporter": "python",
   "pygments_lexer": "ipython3",
   "version": "3.10.11 (main, Jun  4 2023, 22:34:21) [GCC 11.3.0]"
  },
  "orig_nbformat": 4,
  "vscode": {
   "interpreter": {
    "hash": "d4522a30a08353a3cc6dba7fc0912bbe94b06cd063501b76bbec13eb2decdbb5"
   }
  }
 },
 "nbformat": 4,
 "nbformat_minor": 2
}
